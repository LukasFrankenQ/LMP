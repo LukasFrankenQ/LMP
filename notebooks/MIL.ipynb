{
 "cells": [
  {
   "cell_type": "code",
   "execution_count": 34,
   "metadata": {},
   "outputs": [
    {
     "name": "stdout",
     "output_type": "stream",
     "text": [
      "2024-02-02\n",
      "20\n"
     ]
    },
    {
     "data": {
      "text/plain": [
       "{'statusCode': 404, 'message': 'Resource not found'}"
      ]
     },
     "execution_count": 34,
     "metadata": {},
     "output_type": "execute_result"
    }
   ],
   "source": [
    "import requests\n",
    "import pandas as pd\n",
    "\n",
    "end_date = pd.Timestamp.now()\n",
    "# 2023-01-18\n",
    "settlementDate = (end_date - pd.Timedelta(hours=1)).date()\n",
    "print(settlementDate)\n",
    "settlementPeriod = (end_date - pd.Timedelta(hours=1)).hour * 2\n",
    "print(settlementPeriod)\n",
    "# #options - 'PN', 'QPN', 'MILS', 'MELS\n",
    "dataset = 'PN'\n",
    "\n",
    "web = 'https://data.elexon.co.uk/bmrs/api/v1/balancing/physical/all?dataset=' + dataset + '&settlementDate=' + str(settlementDate) + '&' + str(settlementPeriod) + '&format=json'\n",
    "\n",
    "r = requests.get(web)\n",
    "r.json()"
   ]
  }
 ],
 "metadata": {
  "kernelspec": {
   "display_name": "Python 3",
   "language": "python",
   "name": "python3"
  },
  "language_info": {
   "codemirror_mode": {
    "name": "ipython",
    "version": 3
   },
   "file_extension": ".py",
   "mimetype": "text/x-python",
   "name": "python",
   "nbconvert_exporter": "python",
   "pygments_lexer": "ipython3",
   "version": "3.11.7"
  }
 },
 "nbformat": 4,
 "nbformat_minor": 2
}
