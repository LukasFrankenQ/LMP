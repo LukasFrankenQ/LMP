{
 "cells": [
  {
   "cell_type": "code",
   "execution_count": 39,
   "metadata": {},
   "outputs": [],
   "source": [
    "import os\n",
    "import numpy as np\n",
    "import pandas as pd\n",
    "import matplotlib.pyplot as plt\n",
    "import sys\n",
    "import json\n",
    "from pathlib import Path \n",
    "\n",
    "sys.path.append(str(Path.cwd().parent / 'scripts'))\n",
    "from _aggregation_helpers import flexible_aggregate"
   ]
  },
  {
   "cell_type": "code",
   "execution_count": 51,
   "metadata": {},
   "outputs": [],
   "source": [
    "dates = pd.date_range('2022-07', '2024-07', freq='m').strftime('%Y-%m')"
   ]
  },
  {
   "cell_type": "code",
   "execution_count": 52,
   "metadata": {},
   "outputs": [
    {
     "name": "stderr",
     "output_type": "stream",
     "text": [
      "100%|██████████| 24/24 [05:45<00:00, 14.41s/it]\n"
     ]
    }
   ],
   "source": [
    "# dates = pd.date_range('2022-07', '2024-07', freq='m').strftime('%Y-%m')\n",
    "\n",
    "path = Path.cwd().parent / 'results'\n",
    "\n",
    "def agg_month(date):\n",
    "    \"\"\"month to aggregate\"\"\"\n",
    "\n",
    "    if isinstance(date, pd.Timestamp):\n",
    "        date = date.strftime('%Y-%m')\n",
    "\n",
    "    ts = str(int(pd.Timestamp(date).timestamp()))\n",
    "\n",
    "    hierarchy = ['daily', 'half-hourly', 'periods']\n",
    "    gathered_files = None\n",
    "\n",
    "    def should_be_added(fn, nonadds):\n",
    "\n",
    "        if nonadds is not None:\n",
    "            condition2 = lambda fn: fn.startswith(nonadds)\n",
    "        else:\n",
    "            condition2 = lambda _: False\n",
    "\n",
    "        return (fn.startswith(date) + condition2(fn)) == 1\n",
    "\n",
    "    for level in hierarchy:\n",
    "\n",
    "        if gathered_files is not None:\n",
    "            cleaned = tuple(map(lambda entry: entry.split('.')[0], gathered_files))\n",
    "        else:\n",
    "            cleaned = None\n",
    "\n",
    "        level_files = tuple([fn for fn in os.listdir(path / level) if should_be_added(fn, cleaned)])\n",
    "\n",
    "        if gathered_files is None:\n",
    "            gathered_files = level_files\n",
    "        else:     \n",
    "            gathered_files += level_files\n",
    "\n",
    "\n",
    "    total_periods = 48 * len(\n",
    "        pd.date_range(\n",
    "            pd.Timestamp(date),\n",
    "            pd.Timestamp(date) + pd.offsets.MonthEnd(1),\n",
    "            freq='d'\n",
    "        )\n",
    "    )\n",
    "\n",
    "    num_period_mapper = {\n",
    "        12: total_periods,\n",
    "        15: 48,\n",
    "        17: 1,\n",
    "        18: 1,\n",
    "    }\n",
    "    num_path_mapper = {\n",
    "        12: 'daily',\n",
    "        15: 'half-hourly',\n",
    "        17: 'periods',\n",
    "        18: 'periods',\n",
    "    }\n",
    "\n",
    "    covered_periods = pd.Series(gathered_files).map(len).map(num_period_mapper).sum()\n",
    "    covered_share = covered_periods / total_periods\n",
    "    \n",
    "    def get_json(fn):\n",
    "        with open(fn, 'r') as f:\n",
    "            return json.load(f)\n",
    "\n",
    "    results = {}\n",
    "    \n",
    "    for d, fn in zip(pd.Series(gathered_files).map(len).map(num_path_mapper), gathered_files):\n",
    "        results.update(get_json(path / d / fn))\n",
    "\n",
    "    return {ts: flexible_aggregate(results)}, covered_share\n",
    "    # return covered_share\n",
    "\n",
    "monthly_results = {}\n",
    "shares = pd.Series(index=dates)\n",
    "\n",
    "from tqdm import tqdm\n",
    "\n",
    "for date in tqdm(dates):\n",
    "    result, share = agg_month(date)\n",
    "\n",
    "    shares[date] = share\n",
    "    monthly_results.update(result)\n",
    "\n",
    "# total = agg_month(dates[1])"
   ]
  },
  {
   "cell_type": "code",
   "execution_count": 53,
   "metadata": {},
   "outputs": [
    {
     "data": {
      "text/plain": [
       "Index(['2022-07', '2022-08', '2022-09', '2022-10', '2022-11', '2022-12',\n",
       "       '2023-01', '2023-02', '2023-03', '2023-04', '2023-05', '2023-06',\n",
       "       '2023-07', '2023-08', '2023-09', '2023-10', '2023-11', '2023-12',\n",
       "       '2024-01', '2024-02', '2024-03', '2024-04', '2024-05', '2024-06'],\n",
       "      dtype='object')"
      ]
     },
     "execution_count": 53,
     "metadata": {},
     "output_type": "execute_result"
    }
   ],
   "source": [
    "dates"
   ]
  },
  {
   "cell_type": "code",
   "execution_count": 54,
   "metadata": {},
   "outputs": [],
   "source": [
    "# with open('monthly_aggregate.json', 'w') as f:\n",
    "#     json.dump(monthly_results, f)"
   ]
  },
  {
   "cell_type": "code",
   "execution_count": 55,
   "metadata": {},
   "outputs": [
    {
     "data": {
      "text/plain": [
       "<AxesSubplot:>"
      ]
     },
     "execution_count": 55,
     "metadata": {},
     "output_type": "execute_result"
    },
    {
     "data": {
      "image/png": "[encoded data removed]",
      "text/plain": [
       "<Figure size 640x480 with 1 Axes>"
      ]
     },
     "metadata": {},
     "output_type": "display_data"
    }
   ],
   "source": [
    "shares.plot.bar()"
   ]
  },
  {
   "cell_type": "code",
   "execution_count": 56,
   "metadata": {},
   "outputs": [],
   "source": [
    "total = flexible_aggregate(monthly_results)"
   ]
  },
  {
   "cell_type": "code",
   "execution_count": 57,
   "metadata": {},
   "outputs": [
    {
     "name": "stdout",
     "output_type": "stream",
     "text": [
      "national 0.0\n",
      "nodal 4.822365476422383\n",
      "eso 3.859468173026617\n"
     ]
    }
   ],
   "source": [
    "\n",
    "for l in list(total):\n",
    "    ts = total[l]\n",
    "\n",
    "    i = ts['globals']['variables']\n",
    "\n",
    "    ts = sum([item for key, item in i.items() if 'savings' in key])\n",
    "\n",
    "    print(l, ts*1e-9)"
   ]
  },
  {
   "cell_type": "code",
   "execution_count": 58,
   "metadata": {},
   "outputs": [
    {
     "data": {
      "text/plain": [
       "['wholesale_cost',\n",
       " 'balancing_cost',\n",
       " 'congestion_rent',\n",
       " 'cfd_cost',\n",
       " 'wholesale_cost_savings',\n",
       " 'balancing_cost_savings',\n",
       " 'congestion_rent_savings',\n",
       " 'cfd_cost_savings']"
      ]
     },
     "execution_count": 58,
     "metadata": {},
     "output_type": "execute_result"
    }
   ],
   "source": [
    "list(total['nodal']['globals']['variables'])"
   ]
  },
  {
   "cell_type": "code",
   "execution_count": 115,
   "metadata": {},
   "outputs": [
    {
     "data": {
      "image/png": "[encoded data removed]",
      "text/plain": [
       "<Figure size 1200x450 with 1 Axes>"
      ]
     },
     "metadata": {},
     "output_type": "display_data"
    }
   ],
   "source": [
    "fig, ax = plt.subplots(1, 1, figsize=(12, 4.5))\n",
    "\n",
    "colors = {\n",
    "    # 'balancing_cost_savings': '#c00000',\n",
    "    'balancing_cost_savings': 'purple',\n",
    "    # 'wholesale_cost_savings': '#3fd0ff',\n",
    "    'wholesale_cost_savings': 'tomato',\n",
    "    # 'congestion_rent_savings': '#1bb680',\n",
    "    'congestion_rent_savings': 'royalblue',\n",
    "    # 'cfd_cost_savings': '#5781a6',\n",
    "    # 'cfd_cost_savings': 'teal',\n",
    "    'cfd_cost_savings': 'gold',\n",
    "    'total': '#00213b',\n",
    "}\n",
    "cmapper = {\n",
    "    'wholesale': 'tomato',\n",
    "    'balancing': 'purple',\n",
    "    'cfd': 'teal',\n",
    "    'congestion_rent': 'royalblue',\n",
    "}\n",
    "\n",
    "nice_names = {\n",
    "    'balancing_cost_savings': 'Constraint Management Costs',\n",
    "    'wholesale_cost_savings': 'Wholesale Costs',\n",
    "    'congestion_rent_savings': 'Intra-GB Congestion Rents',\n",
    "    'cfd_cost_savings': 'CfD Payments',\n",
    "}\n",
    "\n",
    "quants = list(nice_names)\n",
    "\n",
    "# l = 'nodal'\n",
    "l = 'eso'\n",
    "\n",
    "ttt = 0\n",
    "plotstart = pd.Timestamp('2022-07')\n",
    "\n",
    "for i, data in monthly_results.items():\n",
    "\n",
    "    if pd.Timestamp.fromtimestamp(int(i)) < plotstart:\n",
    "        continue\n",
    "\n",
    "    data = (\n",
    "        pd.Series(\n",
    "            data[l]['globals']['variables']\n",
    "        )\n",
    "        .loc[quants]\n",
    "        .mul(1e-9)\n",
    "        .rename(\n",
    "            (dt := pd.Timestamp.fromtimestamp(int(i)).strftime('%Y-%m'))\n",
    "        )\n",
    "    )\n",
    "\n",
    "    ttt += data.sum()\n",
    "\n",
    "    neg = data[data < 0]\n",
    "    pos = data[data > 0]\n",
    "\n",
    "    negcum = neg.cumsum()\n",
    "    poscum = pos.cumsum()\n",
    "\n",
    "    total_b = data.sum()\n",
    "\n",
    "    bar_kwargs = dict(    \n",
    "        edgecolor='white',\n",
    "        linewidth=0.5,\n",
    "    )\n",
    "\n",
    "    for q, val in neg.items():\n",
    "        ax.bar(dt, val, color=colors[q], bottom=negcum[q] - val, **bar_kwargs)\n",
    "    \n",
    "    for q, val in pos.items():\n",
    "        ax.bar(dt, val, color=colors[q], bottom=poscum[q] - val, **bar_kwargs)\n",
    "\n",
    "    ax.scatter([dt], [total_b], color=colors['total'], zorder=10, edgecolor='black', linewidth=0.5)\n",
    "\n",
    "\n",
    "ax.spines['top'].set_visible(False)\n",
    "ax.spines['right'].set_visible(False)\n",
    "\n",
    "ax.set_ylabel('Cost Reduction versus National Market [bn£]')\n",
    "\n",
    "for q, col in nice_names.items():\n",
    "    ax.bar(0, 0, color=colors[q], label=nice_names[q], edgecolor='black', linewidth=0.5)\n",
    "\n",
    "from matplotlib.patches import Patch\n",
    "from matplotlib.lines import Line2D\n",
    "\n",
    "handles, labels = [], []\n",
    "\n",
    "# handles.append(Line2D([0], [0], color='w', lw=0, label=''))\n",
    "\n",
    "nice_lname = {\n",
    "    'nodal': 'Nodal Layout',\n",
    "    'eso': 'Zonal Layout',\n",
    "}\n",
    "# labels = [f'{nice_lname[l]} Reduction in...']\n",
    "# labels = ['Reduction in...']\n",
    "labels = []\n",
    "\n",
    "for i, (n, nn) in enumerate(nice_names.items()):\n",
    "    handles.append(Patch(color=colors[n]))\n",
    "    labels.append(nn)\n",
    "\n",
    "    # if i == 1:\n",
    "    # handles.append(Line2D([0], [0], color='w', lw=0, label=''))\n",
    "    #     labels.append('')\n",
    "\n",
    "\n",
    "handles.append(Line2D([0], [0], color='w', marker='o', label='', markerfacecolor=colors['total'], markeredgecolor='black'))\n",
    "labels.append('Overall System Cost')\n",
    "\n",
    "if l == 'eso':\n",
    "    bbox_to_anchor = (0.25, 0.9)\n",
    "else:\n",
    "    bbox_to_anchor = (0.23, 1.01)\n",
    "\n",
    "ax.legend(\n",
    "    handles, labels,\n",
    "    title='Reduction in...',\n",
    "    # loc='lower right',\n",
    "    # bbox_to_anchor=(1, 0.39),\n",
    "    bbox_to_anchor=bbox_to_anchor,\n",
    "    ncol=2,\n",
    "    frameon=False,\n",
    ")\n",
    "\n",
    "# ax.text(\n",
    "#     '2024-03', -0.15, f'{nice_lname[l]}',\n",
    "# fontweight='bold', fontsize=12, color='black', ha='left', va='center',\n",
    "# )\n",
    "\n",
    "ax.grid(axis='y', linestyle='--', alpha=0.5)\n",
    "ax.tick_params(axis='x', labelrotation=90)\n",
    "ax.set_xlabel('Month')\n",
    "ax.set_axisbelow(True)\n",
    "\n",
    "ax.set_ylim(-0.29, 0.59)\n",
    "\n",
    "plt.savefig(f'monthly_totals_{l}.png', dpi=300, bbox_inches='tight')\n",
    "plt.show()"
   ]
  },
  {
   "cell_type": "code",
   "execution_count": 72,
   "metadata": {},
   "outputs": [],
   "source": [
    "# monthly_results[list(monthly_results.keys())[0]]\n",
    "\n",
    "with open('month_raw.json', 'w') as f:\n",
    "    json.dump(monthly_results, f)\n"
   ]
  },
  {
   "cell_type": "code",
   "execution_count": 24,
   "metadata": {},
   "outputs": [
    {
     "data": {
      "text/plain": [
       "16128"
      ]
     },
     "execution_count": 24,
     "metadata": {},
     "output_type": "execute_result"
    }
   ],
   "source": [
    "len(pd.date_range('2022-07', '2023-06-01', freq='d')) * 48"
   ]
  },
  {
   "cell_type": "code",
   "execution_count": 1,
   "metadata": {},
   "outputs": [],
   "source": [
    "import json\n",
    "import pypsa\n",
    "import numpy as np\n",
    "import pandas as pd\n",
    "from pathlib import Path\n",
    "from pprint import pprint"
   ]
  },
  {
   "cell_type": "code",
   "execution_count": 2,
   "metadata": {},
   "outputs": [],
   "source": [
    "path = Path.cwd().parent / 'results'\n",
    "# with open(path / 'periods' / '2023-04-05_19.json', 'r') as f:\n",
    "    # data = json.load(f)"
   ]
  },
  {
   "cell_type": "code",
   "execution_count": 3,
   "metadata": {},
   "outputs": [],
   "source": [
    "# pprint(data[list(data)[0]]['national']['globals']['variables'])\n",
    "# pprint(data[list(data)[0]]['eso']['globals']['variables'])\n",
    "# pprint(data[list(data)[0]]['nodal']['globals']['variables'])"
   ]
  },
  {
   "cell_type": "code",
   "execution_count": 4,
   "metadata": {},
   "outputs": [],
   "source": [
    "path = Path.cwd().parent / 'resources' / 'live_data'"
   ]
  },
  {
   "cell_type": "code",
   "execution_count": 20,
   "metadata": {},
   "outputs": [
    {
     "name": "stderr",
     "output_type": "stream",
     "text": [
      "WARNING:pypsa.io:The following Generator have buses which are not defined:\n",
      "Index(['BLARW-1'], dtype='object', name='name')\n",
      "INFO:pypsa.io:Imported network network_s_nodal_solved.nc has buses, carriers, generators, lines, links, loads\n",
      "WARNING:pypsa.io:The following Generator have buses which are not defined:\n",
      "Index(['BLARW-1'], dtype='object', name='name')\n",
      "INFO:pypsa.io:Imported network network_s_eso_solved.nc has buses, carriers, generators, lines, links, loads\n",
      "WARNING:pypsa.io:The following Generator have buses which are not defined:\n",
      "Index(['BLARW-1'], dtype='object', name='name')\n",
      "INFO:pypsa.io:Imported network network_s_eso_solved.nc has buses, carriers, generators, lines, links, loads\n",
      "WARNING:pypsa.io:The following Generator have buses which are not defined:\n",
      "Index(['BLARW-1'], dtype='object', name='name')\n",
      "INFO:pypsa.io:Imported network network_s_nodal_solved.nc has buses, carriers, generators, lines, links, loads\n"
     ]
    }
   ],
   "source": [
    "n1 = pypsa.Network(path / '2024-04-05_19' / 'network_s_nodal_solved.nc')\n",
    "n2 = pypsa.Network(path / '2024-04-05_19' / 'network_s_eso_solved.nc')\n",
    "n3 = pypsa.Network(path / '2023-04-05_19' / 'network_s_eso_solved.nc')\n",
    "n4 = pypsa.Network(path / '2023-04-05_19' / 'network_s_nodal_solved.nc')"
   ]
  },
  {
   "cell_type": "code",
   "execution_count": 6,
   "metadata": {},
   "outputs": [],
   "source": [
    "import yaml\n",
    "\n",
    "with open(Path.cwd().parent / 'config' / 'config.yaml', 'r') as f:\n",
    "    config = yaml.safe_load(f)['boundaries']"
   ]
  },
  {
   "cell_type": "code",
   "execution_count": 7,
   "metadata": {},
   "outputs": [],
   "source": [
    "getflow = lambda n: n.lines_t.p0.iloc[0]"
   ]
  },
  {
   "cell_type": "code",
   "execution_count": 8,
   "metadata": {},
   "outputs": [],
   "source": [
    "def reverse_dict_of_lists(d):\n",
    "    return {v: k for k, vs in d.items() for v in vs}\n",
    "\n",
    "bs_nodal = reverse_dict_of_lists(config['nodal'])\n",
    "bs_eso = reverse_dict_of_lists(config['eso'])"
   ]
  },
  {
   "cell_type": "code",
   "execution_count": 9,
   "metadata": {},
   "outputs": [
    {
     "name": "stdout",
     "output_type": "stream",
     "text": [
      "nodal\n",
      "                  nom         flow\n",
      "b                                 \n",
      "FLOWSTH  10494.274141  1419.584783\n",
      "SCOTEX    4496.575716  3606.315143\n",
      "SEIMP     6002.792733  3566.627694\n",
      "SSE-SP    2898.638815  2695.125685\n",
      "SSHARN    7478.443902  2885.233573\n",
      "SWALEX    6792.410447  1532.235491\n",
      "zonal\n",
      "                  nom         flow\n",
      "b                                 \n",
      "FLOWSTH  10494.274141  2031.922057\n",
      "SCOTEX    4496.575716  3394.300407\n",
      "SEIMP     6000.022144  4477.323399\n",
      "SSE-SP    2900.448635  2900.448635\n",
      "SSHARN    7478.443902  2673.218837\n",
      "SWALEX   13584.820894  2684.064235\n"
     ]
    }
   ],
   "source": [
    "\n",
    "def get_boundary_flows(n):\n",
    "\n",
    "    if len(n.buses) > 200:\n",
    "        mode = 'nodal'\n",
    "    else:\n",
    "        mode = 'eso'\n",
    "\n",
    "    return pd.concat((\n",
    "        n.lines.loc[:, 's_nom'].rename('nom'),\n",
    "        getflow(n).rename('flow').abs(),\n",
    "        pd.Series(n.lines.index, n.lines.index, name='b')\n",
    "            .apply(lambda x: globals()['bs_'+mode].get(int(x), np.nan)),\n",
    "    ), axis=1).dropna().groupby('b').sum()\n",
    "\n",
    "\n",
    "print('nodal')\n",
    "print(get_boundary_flows(n1))\n",
    "\n",
    "print('zonal')\n",
    "print(get_boundary_flows(n2))"
   ]
  },
  {
   "cell_type": "code",
   "execution_count": 10,
   "metadata": {},
   "outputs": [
    {
     "name": "stdout",
     "output_type": "stream",
     "text": [
      "eso\n",
      "                         dispatch    p_nom  marginal_cost\n",
      "carrier                                                  \n",
      "powerstation             0.000000    185.0      91.334573\n",
      "cascade                  0.000000     45.0     100.000000\n",
      "PV                      49.000000     49.0       0.010000\n",
      "solar power station     50.000000     50.0       0.000000\n",
      "gas turbine             60.000000    120.0     131.929044\n",
      "hydro                   61.000000    229.0     140.000000\n",
      "floating wind           67.000000     67.0       0.020000\n",
      "gas-fired               96.000000     96.0     126.778656\n",
      "hydro-scheme           104.666525    417.0     140.000000\n",
      "coal                   130.000000   1247.0     417.423723\n",
      "CHP                    148.000000    273.0     189.249756\n",
      "battery                193.000000    228.0     280.000000\n",
      "CCGT                   300.000000   3989.0     813.522267\n",
      "wind                   570.000000    574.0       0.180000\n",
      "PHS                   1030.000000   1030.0     140.000000\n",
      "onwind                1550.000000   1550.0       0.730000\n",
      "biomass               1950.000000   2045.0     333.851441\n",
      "gas                   2050.145571  17685.0    4123.292930\n",
      "nuclear               5274.000000   5274.0     270.000000\n",
      "interconnector        5752.000000   5960.0    1540.000000\n",
      "offwind              10649.000000  10649.0       0.680000\n",
      "nodal\n",
      "                         dispatch    p_nom  marginal_cost\n",
      "carrier                                                  \n",
      "powerstation             0.000000    185.0      91.334573\n",
      "cascade                  0.000000     45.0     100.000000\n",
      "PV                      49.000000     49.0       0.010000\n",
      "solar power station     50.000000     50.0       0.000000\n",
      "gas turbine             60.000000    120.0     131.929044\n",
      "floating wind           67.000000     67.0       0.020000\n",
      "hydro                   83.240232    229.0     140.000000\n",
      "gas-fired               96.000000     96.0     126.778656\n",
      "hydro-scheme           100.000000    417.0     140.000000\n",
      "coal                   130.000000   1247.0     417.423723\n",
      "CHP                    148.000000    273.0     189.249756\n",
      "battery                228.000000    228.0     280.000000\n",
      "CCGT                   317.286979   3989.0     813.522267\n",
      "wind                   570.000000    574.0       0.180000\n",
      "PHS                    765.411557   1030.0     140.000000\n",
      "onwind                1550.000000   1550.0       0.730000\n",
      "biomass               1950.000000   2045.0     333.851441\n",
      "gas                   2244.873328  17685.0    4123.292930\n",
      "nuclear               5274.000000   5274.0     270.000000\n",
      "interconnector        5752.000000   5960.0    1540.000000\n",
      "offwind              10649.000000  10649.0       0.680000\n",
      "                 dispatch    p_nom  marginal_cost\n",
      "carrier                                          \n",
      "hydro           61.000000    229.0     140.000000\n",
      "hydro-scheme   104.666525    417.0     140.000000\n",
      "battery        193.000000    228.0     280.000000\n",
      "CCGT           300.000000   3989.0     813.522267\n",
      "PHS           1030.000000   1030.0     140.000000\n",
      "gas           2050.145571  17685.0    4123.292930\n",
      "                 dispatch    p_nom  marginal_cost\n",
      "carrier                                          \n",
      "hydro           83.240232    229.0     140.000000\n",
      "hydro-scheme   100.000000    417.0     140.000000\n",
      "battery        228.000000    228.0     280.000000\n",
      "CCGT           317.286979   3989.0     813.522267\n",
      "PHS            765.411557   1030.0     140.000000\n",
      "gas           2244.873328  17685.0    4123.292930\n",
      "nodal cost:  20754949.697154127\n",
      "zonal cost:  19962748.83523394\n"
     ]
    }
   ],
   "source": [
    "#  n1.lines.sort_values(by='s_nom', ascending=False)\n",
    "getgen = lambda n: pd.concat((n.generators_t.p.iloc[0].rename('dispatch'), n.generators[['carrier', 'p_nom', 'marginal_cost']]), axis=1)\n",
    "\n",
    "print('eso')\n",
    "print((g1 := getgen(n1).groupby('carrier').sum().sort_values('dispatch')))\n",
    "print('nodal')\n",
    "print((g2 := getgen(n2).groupby('carrier').sum().sort_values('dispatch')))\n",
    "\n",
    "comp = 'dispatch'\n",
    "print(g1.loc[g1[comp] != g2[comp].loc[g1.index]])\n",
    "print(g2.loc[g1[comp] != g2[comp].loc[g1.index]])\n",
    "\n",
    "print('nodal cost: ', g2['dispatch'].mul(g2['marginal_cost']).sum())\n",
    "print('zonal cost: ', g1['dispatch'].mul(g1['marginal_cost']).sum())"
   ]
  },
  {
   "cell_type": "code",
   "execution_count": 11,
   "metadata": {},
   "outputs": [],
   "source": [
    "g1 = getgen(n1)\n",
    "g2 = getgen(n2)"
   ]
  },
  {
   "cell_type": "code",
   "execution_count": 12,
   "metadata": {},
   "outputs": [],
   "source": [
    "g1['cost'] = g1['dispatch'].mul(g1['marginal_cost'])\n",
    "g2['cost'] = g2['dispatch'].mul(g2['marginal_cost'])"
   ]
  },
  {
   "cell_type": "code",
   "execution_count": 13,
   "metadata": {},
   "outputs": [
    {
     "data": {
      "text/html": [
       "<div>\n",
       "<style scoped>\n",
       "    .dataframe tbody tr th:only-of-type {\n",
       "        vertical-align: middle;\n",
       "    }\n",
       "\n",
       "    .dataframe tbody tr th {\n",
       "        vertical-align: top;\n",
       "    }\n",
       "\n",
       "    .dataframe thead th {\n",
       "        text-align: right;\n",
       "    }\n",
       "</style>\n",
       "<table border=\"1\" class=\"dataframe\">\n",
       "  <thead>\n",
       "    <tr style=\"text-align: right;\">\n",
       "      <th></th>\n",
       "      <th>nodal</th>\n",
       "      <th>zonal</th>\n",
       "    </tr>\n",
       "    <tr>\n",
       "      <th>carrier</th>\n",
       "      <th></th>\n",
       "      <th></th>\n",
       "    </tr>\n",
       "  </thead>\n",
       "  <tbody>\n",
       "    <tr>\n",
       "      <th>powerstation</th>\n",
       "      <td>0.000000</td>\n",
       "      <td>0.000000</td>\n",
       "    </tr>\n",
       "    <tr>\n",
       "      <th>cascade</th>\n",
       "      <td>0.000000</td>\n",
       "      <td>0.000000</td>\n",
       "    </tr>\n",
       "    <tr>\n",
       "      <th>solar power station</th>\n",
       "      <td>0.000000</td>\n",
       "      <td>0.000000</td>\n",
       "    </tr>\n",
       "    <tr>\n",
       "      <th>PV</th>\n",
       "      <td>0.490000</td>\n",
       "      <td>0.490000</td>\n",
       "    </tr>\n",
       "    <tr>\n",
       "      <th>floating wind</th>\n",
       "      <td>0.670000</td>\n",
       "      <td>0.670000</td>\n",
       "    </tr>\n",
       "    <tr>\n",
       "      <th>wind</th>\n",
       "      <td>5.700000</td>\n",
       "      <td>5.700000</td>\n",
       "    </tr>\n",
       "    <tr>\n",
       "      <th>onwind</th>\n",
       "      <td>15.500000</td>\n",
       "      <td>15.500000</td>\n",
       "    </tr>\n",
       "    <tr>\n",
       "      <th>offwind</th>\n",
       "      <td>106.490000</td>\n",
       "      <td>106.490000</td>\n",
       "    </tr>\n",
       "    <tr>\n",
       "      <th>hydro</th>\n",
       "      <td>1220.000000</td>\n",
       "      <td>1664.804645</td>\n",
       "    </tr>\n",
       "    <tr>\n",
       "      <th>hydro-scheme</th>\n",
       "      <td>2093.330500</td>\n",
       "      <td>2000.000000</td>\n",
       "    </tr>\n",
       "    <tr>\n",
       "      <th>gas turbine</th>\n",
       "      <td>3541.402487</td>\n",
       "      <td>3541.402487</td>\n",
       "    </tr>\n",
       "    <tr>\n",
       "      <th>battery</th>\n",
       "      <td>3860.000000</td>\n",
       "      <td>4560.000000</td>\n",
       "    </tr>\n",
       "    <tr>\n",
       "      <th>gas-fired</th>\n",
       "      <td>6085.375470</td>\n",
       "      <td>6085.375470</td>\n",
       "    </tr>\n",
       "    <tr>\n",
       "      <th>CHP</th>\n",
       "      <td>6512.000000</td>\n",
       "      <td>6512.000000</td>\n",
       "    </tr>\n",
       "    <tr>\n",
       "      <th>coal</th>\n",
       "      <td>8155.490098</td>\n",
       "      <td>8155.490098</td>\n",
       "    </tr>\n",
       "    <tr>\n",
       "      <th>CCGT</th>\n",
       "      <td>14316.491569</td>\n",
       "      <td>15466.691538</td>\n",
       "    </tr>\n",
       "    <tr>\n",
       "      <th>PHS</th>\n",
       "      <td>20600.000000</td>\n",
       "      <td>15308.231134</td>\n",
       "    </tr>\n",
       "    <tr>\n",
       "      <th>biomass</th>\n",
       "      <td>97056.050890</td>\n",
       "      <td>97056.050890</td>\n",
       "    </tr>\n",
       "    <tr>\n",
       "      <th>interconnector</th>\n",
       "      <td>115040.000000</td>\n",
       "      <td>115040.000000</td>\n",
       "    </tr>\n",
       "    <tr>\n",
       "      <th>gas</th>\n",
       "      <td>122502.370647</td>\n",
       "      <td>136151.295461</td>\n",
       "    </tr>\n",
       "    <tr>\n",
       "      <th>nuclear</th>\n",
       "      <td>158220.000000</td>\n",
       "      <td>158220.000000</td>\n",
       "    </tr>\n",
       "  </tbody>\n",
       "</table>\n",
       "</div>"
      ],
      "text/plain": [
       "                             nodal          zonal\n",
       "carrier                                          \n",
       "powerstation              0.000000       0.000000\n",
       "cascade                   0.000000       0.000000\n",
       "solar power station       0.000000       0.000000\n",
       "PV                        0.490000       0.490000\n",
       "floating wind             0.670000       0.670000\n",
       "wind                      5.700000       5.700000\n",
       "onwind                   15.500000      15.500000\n",
       "offwind                 106.490000     106.490000\n",
       "hydro                  1220.000000    1664.804645\n",
       "hydro-scheme           2093.330500    2000.000000\n",
       "gas turbine            3541.402487    3541.402487\n",
       "battery                3860.000000    4560.000000\n",
       "gas-fired              6085.375470    6085.375470\n",
       "CHP                    6512.000000    6512.000000\n",
       "coal                   8155.490098    8155.490098\n",
       "CCGT                  14316.491569   15466.691538\n",
       "PHS                   20600.000000   15308.231134\n",
       "biomass               97056.050890   97056.050890\n",
       "interconnector       115040.000000  115040.000000\n",
       "gas                  122502.370647  136151.295461\n",
       "nuclear              158220.000000  158220.000000"
      ]
     },
     "execution_count": 13,
     "metadata": {},
     "output_type": "execute_result"
    }
   ],
   "source": [
    "pd.concat((\n",
    "    g1.groupby('carrier')['cost'].sum().sort_values().rename('nodal'),\n",
    "    g2.groupby('carrier')['cost'].sum().sort_values().rename('zonal'))\n",
    "    , axis=1)"
   ]
  },
  {
   "cell_type": "code",
   "execution_count": 51,
   "metadata": {},
   "outputs": [
    {
     "name": "stdout",
     "output_type": "stream",
     "text": [
      "2023\n"
     ]
    },
    {
     "name": "stderr",
     "output_type": "stream",
     "text": [
      "WARNING:pypsa.io:The following Generator have buses which are not defined:\n",
      "Index(['BLARW-1'], dtype='object', name='name')\n",
      "INFO:pypsa.io:Imported network network_s_nodal_solved.nc has buses, carriers, generators, lines, links, loads\n",
      "WARNING:pypsa.io:The following Generator have buses which are not defined:\n",
      "Index(['BLARW-1'], dtype='object', name='name')\n",
      "INFO:pypsa.io:Imported network network_s_eso_solved.nc has buses, carriers, generators, lines, links, loads\n"
     ]
    },
    {
     "name": "stdout",
     "output_type": "stream",
     "text": [
      "nodal total cost:  1901866.3339926014\n",
      "nodal market cost:  3595639.151057183\n",
      "zonal total cost:  1913519.0100169072\n",
      "zonal market cost:  3336968.0670814747\n"
     ]
    },
    {
     "data": {
      "image/png": "[encoded data removed]",
      "text/plain": [
       "<Figure size 1200x450 with 1 Axes>"
      ]
     },
     "metadata": {},
     "output_type": "display_data"
    }
   ],
   "source": [
    "fig, ax = plt.subplots(1, 1, figsize=(12, 4.5))\n",
    "\n",
    "year = '2023'\n",
    "get_model = lambda year, l: pypsa.Network(path / f'{year}-04-05_19' / f'network_s_{l}_solved.nc')\n",
    "\n",
    "print(year)\n",
    "\n",
    "for n, c in zip(\n",
    "    [get_model(year, 'nodal'), get_model(year, 'eso')],\n",
    "    ['royalblue', 'orange', 'red']\n",
    "    ):\n",
    "\n",
    "    if len(n.buses) > 200:\n",
    "        name = 'nodal'\n",
    "    else:\n",
    "        name = 'zonal'\n",
    "\n",
    "    g = getgen(n).sort_values('marginal_cost')\n",
    "\n",
    "    g['bus'] = n.generators.bus\n",
    "\n",
    "    g = g.loc[g['bus'] != '']\n",
    "    cumgen = g['dispatch'].cumsum()\n",
    "\n",
    "    g['marginal_price'] = g['bus'].apply(lambda b: n.buses_t.marginal_price.iloc[0].loc[b])\n",
    "\n",
    "        \n",
    "    ax.plot(cumgen, g['marginal_cost'], color=c)\n",
    "\n",
    "    ax.axvline(n.loads.p_set.sum(), color=c, label=name)\n",
    "    print(f'{name} total cost: ', g['dispatch'].mul(g['marginal_cost']).sum())\n",
    "    print(f'{name} market cost: ', g['dispatch'].mul(g['marginal_price']).sum())\n",
    "\n",
    "    g['cost'] = g['dispatch'].mul(g['marginal_cost'])\n",
    "    # print(g.groupby('carrier')['cost'].sum().sort_values())\n",
    "\n",
    "ax.legend()\n",
    "plt.show()"
   ]
  },
  {
   "cell_type": "code",
   "execution_count": null,
   "metadata": {},
   "outputs": [],
   "source": []
  }
 ],
 "metadata": {
  "kernelspec": {
   "display_name": "Python 3",
   "language": "python",
   "name": "python3"
  },
  "language_info": {
   "codemirror_mode": {
    "name": "ipython",
    "version": 3
   },
   "file_extension": ".py",
   "mimetype": "text/x-python",
   "name": "python",
   "nbconvert_exporter": "python",
   "pygments_lexer": "ipython3",
   "version": "3.10.12"
  }
 },
 "nbformat": 4,
 "nbformat_minor": 2
}
