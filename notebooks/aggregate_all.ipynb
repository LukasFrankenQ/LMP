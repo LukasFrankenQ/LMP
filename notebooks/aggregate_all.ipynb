{
 "cells": [
  {
   "cell_type": "code",
   "execution_count": 14,
   "metadata": {},
   "outputs": [],
   "source": [
    "import os\n",
    "import numpy as np\n",
    "import pandas as pd\n",
    "import matplotlib.pyplot as plt\n",
    "import sys\n",
    "import json\n",
    "from pathlib import Path \n",
    "\n",
    "sys.path.append(str(Path.cwd().parent / 'scripts'))\n",
    "from _aggregation_helpers import flexible_aggregate"
   ]
  },
  {
   "cell_type": "code",
   "execution_count": 133,
   "metadata": {},
   "outputs": [
    {
     "name": "stderr",
     "output_type": "stream",
     "text": [
      "100%|██████████| 24/24 [10:47<00:00, 26.99s/it]\n"
     ]
    }
   ],
   "source": [
    "dates = pd.date_range('2022-07', '2024-07', freq='m').strftime('%Y-%m')\n",
    "\n",
    "path = Path.cwd().parent / 'results'\n",
    "\n",
    "def agg_month(date):\n",
    "    \"\"\"month to aggregate\"\"\"\n",
    "\n",
    "    if isinstance(date, pd.Timestamp):\n",
    "        date = date.strftime('%Y-%m')\n",
    "\n",
    "    ts = str(int(pd.Timestamp(date).timestamp()))\n",
    "\n",
    "    hierarchy = ['daily', 'half-hourly', 'periods']\n",
    "    gathered_files = None\n",
    "\n",
    "    def should_be_added(fn, nonadds):\n",
    "\n",
    "        if nonadds is not None:\n",
    "            condition2 = lambda fn: fn.startswith(nonadds)\n",
    "        else:\n",
    "            condition2 = lambda _: False\n",
    "\n",
    "        return (fn.startswith(date) + condition2(fn)) == 1\n",
    "\n",
    "    for level in hierarchy:\n",
    "\n",
    "        if gathered_files is not None:\n",
    "            cleaned = tuple(map(lambda entry: entry.split('.')[0], gathered_files))\n",
    "        else:\n",
    "            cleaned = None\n",
    "\n",
    "        level_files = tuple([fn for fn in os.listdir(path / level) if should_be_added(fn, cleaned)])\n",
    "\n",
    "        if gathered_files is None:\n",
    "            gathered_files = level_files\n",
    "        else:     \n",
    "            gathered_files += level_files\n",
    "\n",
    "\n",
    "    total_periods = 48 * len(\n",
    "        pd.date_range(\n",
    "            pd.Timestamp(date),\n",
    "            pd.Timestamp(date) + pd.offsets.MonthEnd(1),\n",
    "            freq='d'\n",
    "        )\n",
    "    )\n",
    "\n",
    "    num_period_mapper = {\n",
    "        12: total_periods,\n",
    "        15: 48,\n",
    "        17: 1,\n",
    "        18: 1,\n",
    "    }\n",
    "    num_path_mapper = {\n",
    "        12: 'daily',\n",
    "        15: 'half-hourly',\n",
    "        17: 'periods',\n",
    "        18: 'periods',\n",
    "    }\n",
    "\n",
    "    covered_periods = pd.Series(gathered_files).map(len).map(num_period_mapper).sum()\n",
    "    covered_share = covered_periods / total_periods\n",
    "    \n",
    "    def get_json(fn):\n",
    "        with open(fn, 'r') as f:\n",
    "            return json.load(f)\n",
    "\n",
    "    results = {}\n",
    "    \n",
    "    for d, fn in zip(pd.Series(gathered_files).map(len).map(num_path_mapper), gathered_files):\n",
    "        results.update(get_json(path / d / fn))\n",
    "\n",
    "    return {ts: flexible_aggregate(results)}, covered_share\n",
    "    # return covered_share\n",
    "\n",
    "monthly_results = {}\n",
    "shares = pd.Series(index=dates)\n",
    "\n",
    "from tqdm import tqdm\n",
    "\n",
    "for date in tqdm(dates):\n",
    "    result, share = agg_month(date)\n",
    "\n",
    "    shares[date] = share\n",
    "    monthly_results.update(result)\n",
    "\n",
    "# total = agg_month(dates[1])"
   ]
  },
  {
   "cell_type": "code",
   "execution_count": 131,
   "metadata": {},
   "outputs": [
    {
     "data": {
      "text/plain": [
       "<AxesSubplot:>"
      ]
     },
     "execution_count": 131,
     "metadata": {},
     "output_type": "execute_result"
    },
    {
     "data": {
      "image/png": "[encoded data removed]",
      "text/plain": [
       "<Figure size 640x480 with 1 Axes>"
      ]
     },
     "metadata": {},
     "output_type": "display_data"
    }
   ],
   "source": [
    "shares.plot.bar()"
   ]
  },
  {
   "cell_type": "code",
   "execution_count": 135,
   "metadata": {},
   "outputs": [],
   "source": [
    "from pprint import pprint\n",
    "\n",
    "total = flexible_aggregate(monthly_results)"
   ]
  },
  {
   "cell_type": "code",
   "execution_count": 139,
   "metadata": {},
   "outputs": [
    {
     "name": "stdout",
     "output_type": "stream",
     "text": [
      "national 0.0\n",
      "nodal 4.475878320267355\n",
      "eso 2.734613306909588\n"
     ]
    }
   ],
   "source": [
    "\n",
    "for l in list(total):\n",
    "    ts = total[l]\n",
    "\n",
    "    i = ts['globals']['variables']\n",
    "\n",
    "    ts = sum([item for key, item in i.items() if 'savings' in key])\n",
    "\n",
    "    print(l, ts*1e-9)\n",
    "\n",
    "# pprint(total['nodal']['globals'])\n",
    "# pprint(total['eso']['globals'])\n",
    "# pprint(total['national']['globals'])"
   ]
  },
  {
   "cell_type": "code",
   "execution_count": 140,
   "metadata": {},
   "outputs": [
    {
     "data": {
      "text/plain": [
       "['wholesale_cost',\n",
       " 'balancing_cost',\n",
       " 'congestion_rent',\n",
       " 'cfd_cost',\n",
       " 'wholesale_cost_savings',\n",
       " 'balancing_cost_savings',\n",
       " 'congestion_rent_savings',\n",
       " 'cfd_cost_savings']"
      ]
     },
     "execution_count": 140,
     "metadata": {},
     "output_type": "execute_result"
    }
   ],
   "source": [
    "list(total['nodal']['globals']['variables'])"
   ]
  },
  {
   "cell_type": "code",
   "execution_count": 183,
   "metadata": {},
   "outputs": [
    {
     "data": {
      "image/png": "[encoded data removed]",
      "text/plain": [
       "<Figure size 1200x450 with 1 Axes>"
      ]
     },
     "metadata": {},
     "output_type": "display_data"
    }
   ],
   "source": [
    "fig, ax = plt.subplots(1, 1, figsize=(12, 4.5))\n",
    "\n",
    "colors = {\n",
    "    'balancing_cost_savings': '#c00000',\n",
    "    'wholesale_cost_savings': '#3fd0ff',\n",
    "    'congestion_rent_savings': '#1bb680',\n",
    "    'cfd_cost_savings': '#5781a6',\n",
    "    'total': '#00213b',\n",
    "}\n",
    "\n",
    "nice_names = {\n",
    "    'balancing_cost_savings': 'Constraint Management Costs',\n",
    "    'wholesale_cost_savings': 'Wholesale Costs',\n",
    "    'congestion_rent_savings': 'Intra-GB Congestion Rents',\n",
    "    'cfd_cost_savings': 'CfD Payments',\n",
    "}\n",
    "\n",
    "quants = list(nice_names)\n",
    "\n",
    "l = 'eso'\n",
    "\n",
    "ttt = 0\n",
    "plotstart = pd.Timestamp('2023-01')\n",
    "\n",
    "for i, data in monthly_results.items():\n",
    "\n",
    "    if pd.Timestamp.fromtimestamp(int(i)) < plotstart:\n",
    "        continue\n",
    "\n",
    "    data = (\n",
    "        pd.Series(\n",
    "            data[l]['globals']['variables']\n",
    "        )\n",
    "        .loc[quants]\n",
    "        .mul(1e-9)\n",
    "        .rename(\n",
    "            (dt := pd.Timestamp.fromtimestamp(int(i)).strftime('%Y-%m'))\n",
    "        )\n",
    "    )\n",
    "\n",
    "    ttt += data.sum()\n",
    "\n",
    "    neg = data[data < 0]\n",
    "    pos = data[data > 0]\n",
    "\n",
    "    negcum = neg.cumsum()\n",
    "    poscum = pos.cumsum()\n",
    "\n",
    "    total_b = data.sum()\n",
    "\n",
    "    bar_kwargs = dict(    \n",
    "        edgecolor='white',\n",
    "        linewidth=0.5,\n",
    "    )\n",
    "\n",
    "    for q, val in neg.items():\n",
    "        ax.bar(dt, val, color=colors[q], bottom=negcum[q] - val, **bar_kwargs)\n",
    "    \n",
    "    for q, val in pos.items():\n",
    "        ax.bar(dt, val, color=colors[q], bottom=poscum[q] - val, **bar_kwargs)\n",
    "\n",
    "    ax.scatter([dt], [total_b], color=colors['total'], zorder=10, edgecolor='black', linewidth=0.5)\n",
    "\n",
    "\n",
    "ax.spines['top'].set_visible(False)\n",
    "ax.spines['right'].set_visible(False)\n",
    "\n",
    "ax.set_ylabel('Cost Reduction versus National Market [bn£]')\n",
    "\n",
    "for q, col in nice_names.items():\n",
    "    ax.bar(0, 0, color=colors[q], label=nice_names[q], edgecolor='black', linewidth=0.5)\n",
    "\n",
    "from matplotlib.patches import Patch\n",
    "from matplotlib.lines import Line2D\n",
    "\n",
    "handles, labels = [], []\n",
    "\n",
    "handles.append(Line2D([0], [0], color='w', lw=0, label=''))\n",
    "\n",
    "nice_lname = {\n",
    "    'nodal': 'Nodal Layout',\n",
    "    'eso': 'Zonal Layout',\n",
    "}\n",
    "labels = [f'{nice_lname[l]} Change in...']\n",
    "\n",
    "for n, nn in nice_names.items():\n",
    "    handles.append(Patch(color=colors[n]))\n",
    "    labels.append(nn)\n",
    "\n",
    "handles.append(Line2D([0], [0], color='w', marker='o', label='', markerfacecolor=colors['total'], markeredgecolor='black'))\n",
    "labels.append('Overall System Cost')\n",
    "\n",
    "ax.legend(\n",
    "    handles, labels,\n",
    "    # loc='lower right',\n",
    "    bbox_to_anchor=(1, 1),\n",
    ")\n",
    "\n",
    "ax.grid(axis='y', linestyle='--', alpha=0.5)\n",
    "ax.tick_params(axis='x', labelrotation=90)\n",
    "ax.set_xlabel('Month')\n",
    "\n",
    "plt.savefig(f'monthly_totals_{l}.pdf')\n",
    "plt.show()"
   ]
  },
  {
   "cell_type": "code",
   "execution_count": 64,
   "metadata": {},
   "outputs": [
    {
     "data": {
      "text/plain": [
       "31"
      ]
     },
     "execution_count": 64,
     "metadata": {},
     "output_type": "execute_result"
    }
   ],
   "source": [
    "dd = pd.date_range(pd.Timestamp(dates[0]), pd.Timestamp(dates[0]) + pd.offsets.MonthEnd(1))\n",
    "len(dd)"
   ]
  },
  {
   "cell_type": "code",
   "execution_count": 57,
   "metadata": {},
   "outputs": [
    {
     "data": {
      "text/plain": [
       "DatetimeIndex(['2024-01-01', '2024-01-02', '2024-01-03', '2024-01-04',\n",
       "               '2024-01-05', '2024-01-06', '2024-01-07', '2024-01-08',\n",
       "               '2024-01-09', '2024-01-10', '2024-01-11', '2024-01-12',\n",
       "               '2024-01-13', '2024-01-14', '2024-01-15', '2024-01-16',\n",
       "               '2024-01-17', '2024-01-18', '2024-01-19', '2024-01-20',\n",
       "               '2024-01-21', '2024-01-22', '2024-01-23', '2024-01-24',\n",
       "               '2024-01-25', '2024-01-26', '2024-01-27', '2024-01-28',\n",
       "               '2024-01-29', '2024-01-30', '2024-01-31'],\n",
       "              dtype='datetime64[ns]', freq='D')"
      ]
     },
     "execution_count": 57,
     "metadata": {},
     "output_type": "execute_result"
    }
   ],
   "source": []
  },
  {
   "cell_type": "code",
   "execution_count": 13,
   "metadata": {},
   "outputs": [
    {
     "data": {
      "text/plain": [
       "Timestamp('2024-01-01 01:00:00')"
      ]
     },
     "execution_count": 13,
     "metadata": {},
     "output_type": "execute_result"
    }
   ],
   "source": [
    "pd.Timestamp.fromtimestamp(pd.Timestamp(dates[0]).timestamp())"
   ]
  },
  {
   "cell_type": "code",
   "execution_count": 20,
   "metadata": {},
   "outputs": [
    {
     "data": {
      "text/plain": [
       "False"
      ]
     },
     "execution_count": 20,
     "metadata": {},
     "output_type": "execute_result"
    }
   ],
   "source": [
    "# pd.Series(['aa', 'bb', 'cc']).str.startswith('aaah')\n",
    "'aaahh'.startswith(tuple(pd.Series(['auu', 'bb', 'cc'])))"
   ]
  },
  {
   "cell_type": "code",
   "execution_count": 31,
   "metadata": {},
   "outputs": [
    {
     "data": {
      "text/plain": [
       "(1, 2, 3, 4)"
      ]
     },
     "execution_count": 31,
     "metadata": {},
     "output_type": "execute_result"
    }
   ],
   "source": [
    "a = (1,2,3) + (4,)\n",
    "a"
   ]
  },
  {
   "cell_type": "code",
   "execution_count": 28,
   "metadata": {},
   "outputs": [
    {
     "data": {
      "text/plain": [
       "(1, 2, 3, 4)"
      ]
     },
     "execution_count": 28,
     "metadata": {},
     "output_type": "execute_result"
    }
   ],
   "source": []
  }
 ],
 "metadata": {
  "kernelspec": {
   "display_name": "Python 3",
   "language": "python",
   "name": "python3"
  },
  "language_info": {
   "codemirror_mode": {
    "name": "ipython",
    "version": 3
   },
   "file_extension": ".py",
   "mimetype": "text/x-python",
   "name": "python",
   "nbconvert_exporter": "python",
   "pygments_lexer": "ipython3",
   "version": "3.10.12"
  }
 },
 "nbformat": 4,
 "nbformat_minor": 2
}
