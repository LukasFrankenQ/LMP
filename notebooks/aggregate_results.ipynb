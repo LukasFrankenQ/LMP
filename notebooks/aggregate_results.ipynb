{
 "cells": [
  {
   "cell_type": "code",
   "execution_count": 6,
   "metadata": {},
   "outputs": [],
   "source": [
    "import os\n",
    "import json\n",
    "from tqdm import tqdm\n",
    "import numpy as np\n",
    "import pandas as pd\n",
    "from pathlib import Path\n",
    "import matplotlib.pyplot as plt\n",
    "from pprint import pprint\n",
    "\n",
    "import sys\n",
    "sys.path.append(str(Path.cwd().parent/'scripts'))\n",
    "\n",
    "from _aggregation_helpers import flexible_aggregate"
   ]
  },
  {
   "cell_type": "code",
   "execution_count": 4,
   "metadata": {},
   "outputs": [],
   "source": [
    "root = Path.cwd().parent / 'results'"
   ]
  },
  {
   "cell_type": "code",
   "execution_count": 5,
   "metadata": {},
   "outputs": [],
   "source": [
    "periods = {}\n",
    "\n",
    "# for fn in tqdm([p for p in os.listdir(root / 'periods') if '2023-01' in p]):\n",
    "# for fn in tqdm([p for p in os.listdir(root / 'periods') if '2022-07' in p]):\n",
    "#     with open(root / 'periods' / fn, 'r') as f:\n",
    "#         periods.update(json.load(f))\n",
    "\n",
    "with open(root / 'half-hourly' / '2023-04-05.json', 'r') as f:\n",
    "    t = json.load(f)\n"
   ]
  },
  {
   "cell_type": "code",
   "execution_count": 16,
   "metadata": {},
   "outputs": [
    {
     "name": "stdout",
     "output_type": "stream",
     "text": [
      "2248169.5302581717\n",
      "-65945.72324264207\n",
      "0.0\n"
     ]
    }
   ],
   "source": [
    "agg = flexible_aggregate(t)\n",
    "\n",
    "pprint(agg['nodal']['globals']['variables']['balancing_cost_savings'])\n",
    "pprint(agg['eso']['globals']['variables']['balancing_cost_savings'])\n",
    "pprint(agg['national']['globals']['variables']['balancing_cost_savings'])"
   ]
  },
  {
   "cell_type": "code",
   "execution_count": 24,
   "metadata": {},
   "outputs": [
    {
     "data": {
      "text/plain": [
       "[<matplotlib.lines.Line2D at 0x12a84b94700>]"
      ]
     },
     "execution_count": 24,
     "metadata": {},
     "output_type": "execute_result"
    },
    {
     "data": {
      "image/png": "[encoded data removed]",
      "text/plain": [
       "<Figure size 640x480 with 1 Axes>"
      ]
     },
     "metadata": {},
     "output_type": "display_data"
    }
   ],
   "source": [
    "r = []\n",
    "rn = []\n",
    "\n",
    "for key, item in sorted(t.items()):\n",
    "    r.append(item['eso']['globals']['variables']['balancing_cost_savings'])\n",
    "    rn.append(item['nodal']['globals']['variables']['balancing_cost_savings'])\n",
    "\n",
    "# dt = [pd.Timestamp.fromtimestamp(int(k)) for k in t.keys()]\n",
    "dt = [i+1 for i in range(len(r))]\n",
    "\n",
    "r = pd.Series(r, dt).sort_index()\n",
    "rn = pd.Series(rn, dt).sort_index()\n",
    "\n",
    "for l in range(5, 50, 5):\n",
    "    plt.axvline(x=l, color='r', linestyle='--')\n",
    "\n",
    "plt.plot(r.index, r.values)\n",
    "plt.plot(rn.index, rn.values)"
   ]
  },
  {
   "cell_type": "code",
   "execution_count": 8,
   "metadata": {},
   "outputs": [],
   "source": [
    "agg = flexible_aggregate(periods)"
   ]
  },
  {
   "cell_type": "code",
   "execution_count": 9,
   "metadata": {},
   "outputs": [
    {
     "name": "stdout",
     "output_type": "stream",
     "text": [
      "{'variables': {'balancing_cost': 0.0,\n",
      "               'balancing_cost_savings': 459512.49132648687,\n",
      "               'cfd_cost': -231608.44894282715,\n",
      "               'cfd_cost_savings': -203071.41352821485,\n",
      "               'congestion_rent': -904417.5729748989,\n",
      "               'congestion_rent_savings': 904417.5729790553,\n",
      "               'wholesale_cost': 11338899.046410682,\n",
      "               'wholesale_cost_savings': -62650.56478436105}}\n",
      "{'variables': {'balancing_cost': 140362.85588154694,\n",
      "               'balancing_cost_savings': 319149.6354449399,\n",
      "               'cfd_cost': -202791.4662419687,\n",
      "               'cfd_cost_savings': -231888.3962290733,\n",
      "               'congestion_rent': -507152.3660840234,\n",
      "               'congestion_rent_savings': 507152.3660881799,\n",
      "               'wholesale_cost': 11336334.039771477,\n",
      "               'wholesale_cost_savings': -60085.55814515613}}\n",
      "{'variables': {'balancing_cost': 459512.49132648687,\n",
      "               'balancing_cost_savings': 0.0,\n",
      "               'cfd_cost': -434679.86247104197,\n",
      "               'cfd_cost_savings': 0.0,\n",
      "               'congestion_rent': 4.156492650508881e-06,\n",
      "               'congestion_rent_savings': 0.0,\n",
      "               'wholesale_cost': 11276248.48162632,\n",
      "               'wholesale_cost_savings': 0.0}}\n"
     ]
    }
   ],
   "source": [
    "from pprint import pprint\n",
    "\n",
    "pprint(agg['nodal']['globals'])\n",
    "pprint(agg['eso']['globals'])\n",
    "pprint(agg['national']['globals'])"
   ]
  },
  {
   "cell_type": "code",
   "execution_count": 6,
   "metadata": {},
   "outputs": [
    {
     "data": {
      "text/plain": [
       "0.7385752688172043"
      ]
     },
     "execution_count": 6,
     "metadata": {},
     "output_type": "execute_result"
    }
   ],
   "source": []
  }
 ],
 "metadata": {
  "kernelspec": {
   "display_name": "Python 3",
   "language": "python",
   "name": "python3"
  },
  "language_info": {
   "codemirror_mode": {
    "name": "ipython",
    "version": 3
   },
   "file_extension": ".py",
   "mimetype": "text/x-python",
   "name": "python",
   "nbconvert_exporter": "python",
   "pygments_lexer": "ipython3",
   "version": "3.10.12"
  }
 },
 "nbformat": 4,
 "nbformat_minor": 2
}
