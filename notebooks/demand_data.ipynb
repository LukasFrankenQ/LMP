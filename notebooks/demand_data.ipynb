{
 "cells": [
  {
   "cell_type": "code",
   "execution_count": 6,
   "metadata": {},
   "outputs": [
    {
     "data": {
      "text/html": [
       "<div>\n",
       "<style scoped>\n",
       "    .dataframe tbody tr th:only-of-type {\n",
       "        vertical-align: middle;\n",
       "    }\n",
       "\n",
       "    .dataframe tbody tr th {\n",
       "        vertical-align: top;\n",
       "    }\n",
       "\n",
       "    .dataframe thead th {\n",
       "        text-align: right;\n",
       "    }\n",
       "</style>\n",
       "<table border=\"1\" class=\"dataframe\">\n",
       "  <thead>\n",
       "    <tr style=\"text-align: right;\">\n",
       "      <th></th>\n",
       "      <th>publishTime</th>\n",
       "      <th>startTime</th>\n",
       "      <th>settlementDate</th>\n",
       "      <th>settlementPeriod</th>\n",
       "      <th>quantity</th>\n",
       "    </tr>\n",
       "  </thead>\n",
       "  <tbody>\n",
       "    <tr>\n",
       "      <th>0</th>\n",
       "      <td>2024-02-01T11:25:09Z</td>\n",
       "      <td>2024-02-01T10:30:00Z</td>\n",
       "      <td>2024-02-01</td>\n",
       "      <td>22</td>\n",
       "      <td>45174.0</td>\n",
       "    </tr>\n",
       "  </tbody>\n",
       "</table>\n",
       "</div>"
      ],
      "text/plain": [
       "            publishTime             startTime settlementDate  \\\n",
       "0  2024-02-01T11:25:09Z  2024-02-01T10:30:00Z     2024-02-01   \n",
       "\n",
       "   settlementPeriod  quantity  \n",
       "0                22   45174.0  "
      ]
     },
     "execution_count": 6,
     "metadata": {},
     "output_type": "execute_result"
    }
   ],
   "source": [
    "import requests\n",
    "import pandas as pd\n",
    "\n",
    "end_date = pd.Timestamp.now()\n",
    "settlementDate = (end_date - pd.Timedelta(hours=24)).date()\n",
    "settlementPeriod = (end_date - pd.Timedelta(hours=24)).hour * 2\n",
    "\n",
    "from_ = (end_date - pd.Timedelta(hours=24)).date()\n",
    "to_ = from_\n",
    "\n",
    "# options - 'PN', 'QPN', 'MILS', 'MELS\n",
    "dataset = 'PN'\n",
    "\n",
    "web = 'https://data.elexon.co.uk/bmrs/api/v1/demand/actual/total?from=' + str(from_) + '&to=' + str(to_) + '&settlementPeriodFrom=' + str(settlementPeriod) + '&settlementPeriodTo=' + str(settlementPeriod) + '&format=json'\n",
    "# 'https://data.elexon.co.uk/bmrs/api/v1/demand/actual/total?from=2023-07-18&to=2023-07-21&settlementPeriodFrom=36&settlementPeriodTo=12&format=json'\n",
    "r = requests.get(web)\n",
    "df = pd.DataFrame(r.json()['data'])\n",
    "# df.index = df['nationalGridBmUnit']\n",
    "# df.set_index('nationalGridBmUnit', inplace=True)\n",
    "df"
   ]
  }
 ],
 "metadata": {
  "kernelspec": {
   "display_name": "Python 3",
   "language": "python",
   "name": "python3"
  },
  "language_info": {
   "codemirror_mode": {
    "name": "ipython",
    "version": 3
   },
   "file_extension": ".py",
   "mimetype": "text/x-python",
   "name": "python",
   "nbconvert_exporter": "python",
   "pygments_lexer": "ipython3",
   "version": "3.11.7"
  }
 },
 "nbformat": 4,
 "nbformat_minor": 2
}
