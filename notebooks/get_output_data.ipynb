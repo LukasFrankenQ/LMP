{
 "cells": [
  {
   "cell_type": "code",
   "execution_count": 1,
   "metadata": {},
   "outputs": [],
   "source": [
    "import sys\n",
    "import json\n",
    "import numpy as np\n",
    "import pandas as pd\n",
    "import geopandas as gpd\n",
    "from pathlib import Path\n",
    "from pprint import pprint\n",
    "\n",
    "sys.path.append(str(Path.cwd().parent / 'scripts'))\n",
    "\n",
    "from _aggregation_helpers import flexible_aggregate"
   ]
  },
  {
   "cell_type": "code",
   "execution_count": 15,
   "metadata": {},
   "outputs": [],
   "source": [
    "fn = Path.cwd().parent / 'results' / 'periods' / '2024-03-22_1.json'\n",
    "\n",
    "with open(fn) as f:\n",
    "    data = json.load(f)"
   ]
  },
  {
   "cell_type": "code",
   "execution_count": 16,
   "metadata": {},
   "outputs": [],
   "source": [
    "agg = flexible_aggregate(data)"
   ]
  },
  {
   "cell_type": "code",
   "execution_count": 17,
   "metadata": {},
   "outputs": [
    {
     "name": "stdout",
     "output_type": "stream",
     "text": [
      "national\n",
      "{'balancing_cost': 365713.98032309185,\n",
      " 'balancing_cost_savings': 0.0,\n",
      " 'cfd_cost': 705037.59,\n",
      " 'cfd_cost_savings': 0.0,\n",
      " 'congestion_rent': -6.851041689515114e-08,\n",
      " 'congestion_rent_savings': 0.0,\n",
      " 'wholesale_cost': 369575.76172985346,\n",
      " 'wholesale_cost_savings': 0.0}\n",
      "nodal\n",
      "{'balancing_cost': 0.0,\n",
      " 'balancing_cost_savings': 365713.98032309185,\n",
      " 'cfd_cost': 782940.0145507263,\n",
      " 'cfd_cost_savings': -77902.42455072631,\n",
      " 'congestion_rent': -240079.96413337067,\n",
      " 'congestion_rent_savings': 240079.96413330216,\n",
      " 'wholesale_cost': 366985.36634880264,\n",
      " 'wholesale_cost_savings': 2590.3953810508247}\n",
      "eso\n",
      "{'balancing_cost': 55894.93231673103,\n",
      " 'balancing_cost_savings': 309819.0480063608,\n",
      " 'cfd_cost': 693037.3990843797,\n",
      " 'cfd_cost_savings': 12000.190915620304,\n",
      " 'congestion_rent': -182498.71169650363,\n",
      " 'congestion_rent_savings': 182498.71169643512,\n",
      " 'wholesale_cost': 392942.1568759402,\n",
      " 'wholesale_cost_savings': -23366.395146086754}\n"
     ]
    }
   ],
   "source": [
    "for l in ['national', 'nodal', 'eso']:\n",
    "    print(l)\n",
    "    pprint(agg[l]['globals']['variables'])"
   ]
  },
  {
   "cell_type": "code",
   "execution_count": 24,
   "metadata": {},
   "outputs": [
    {
     "name": "stderr",
     "output_type": "stream",
     "text": [
      "  0%|          | 0/48 [00:00<?, ?it/s]"
     ]
    },
    {
     "name": "stderr",
     "output_type": "stream",
     "text": [
      "100%|██████████| 48/48 [00:00<00:00, 267.52it/s]\n"
     ]
    },
    {
     "name": "stdout",
     "output_type": "stream",
     "text": [
      "{'variables': {'balancing_cost': 418794.6459503098,\n",
      "               'balancing_cost_savings': 0.0,\n",
      "               'cfd_cost': 685222.8269038869,\n",
      "               'cfd_cost_savings': 0.0,\n",
      "               'congestion_rent': -8.718343451619148e-07,\n",
      "               'congestion_rent_savings': 0.0,\n",
      "               'wholesale_cost': 402353.7817029988,\n",
      "               'wholesale_cost_savings': 0.0}}\n",
      "{'variables': {'balancing_cost': 0.0,\n",
      "               'balancing_cost_savings': 24115653.610665075,\n",
      "               'cfd_cost': 28567606.85525717,\n",
      "               'cfd_cost_savings': -220672.8206812492,\n",
      "               'congestion_rent': -11098117.026032194,\n",
      "               'congestion_rent_savings': 11098117.026036728,\n",
      "               'wholesale_cost': 52071629.235952854,\n",
      "               'wholesale_cost_savings': -1405745.3186375266}}\n",
      "{'variables': {'balancing_cost': 9877477.148165518,\n",
      "               'balancing_cost_savings': 14238176.462499559,\n",
      "               'cfd_cost': 27741707.78107297,\n",
      "               'cfd_cost_savings': 605226.2535029473,\n",
      "               'congestion_rent': -9558173.868443465,\n",
      "               'congestion_rent_savings': 9558173.868447997,\n",
      "               'wholesale_cost': 52611309.112165764,\n",
      "               'wholesale_cost_savings': -1945425.194850447}}\n",
      "{'variables': {'balancing_cost': 24115653.610665075,\n",
      "               'balancing_cost_savings': 0.0,\n",
      "               'cfd_cost': 28346934.034575917,\n",
      "               'cfd_cost_savings': 0.0,\n",
      "               'congestion_rent': 4.532390448730439e-06,\n",
      "               'congestion_rent_savings': 0.0,\n",
      "               'wholesale_cost': 50665883.91731532,\n",
      "               'wholesale_cost_savings': 0.0}}\n"
     ]
    }
   ],
   "source": [
    "import os\n",
    "import sys\n",
    "from tqdm import tqdm\n",
    "from pprint import pprint\n",
    "\n",
    "sys.path.append(str(Path.cwd().parent / 'scripts'))\n",
    "from _aggregation_helpers import flexible_aggregate\n",
    "\n",
    "path = Path.cwd().parent / \"results\" / \"periods\"\n",
    "\n",
    "fns = [fn for fn in os.listdir(path) if '2024-03-22' in fn]\n",
    "\n",
    "halfhourly = {}\n",
    "\n",
    "for infile in tqdm(sorted(fns)):\n",
    "    infile = path / infile \n",
    "\n",
    "    with open(infile) as f:\n",
    "        data = json.load(f)\n",
    "\n",
    "    halfhourly.update(data)\n",
    "\n",
    "# with open(snakemake.output[0], 'w') as f:\n",
    "# json.dump(halfhourly, f, indent=4)\n",
    "pprint(halfhourly[list(halfhourly)[1]]['national']['globals'])\n",
    "\n",
    "pprint(flexible_aggregate(halfhourly)['nodal']['globals'])\n",
    "pprint(flexible_aggregate(halfhourly)['eso']['globals'])\n",
    "pprint(flexible_aggregate(halfhourly)['national']['globals'])"
   ]
  }
 ],
 "metadata": {
  "kernelspec": {
   "display_name": "pypsa-eur",
   "language": "python",
   "name": "python3"
  },
  "language_info": {
   "codemirror_mode": {
    "name": "ipython",
    "version": 3
   },
   "file_extension": ".py",
   "mimetype": "text/x-python",
   "name": "python",
   "nbconvert_exporter": "python",
   "pygments_lexer": "ipython3",
   "version": "3.12.7"
  }
 },
 "nbformat": 4,
 "nbformat_minor": 2
}
