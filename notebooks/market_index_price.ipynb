{
 "cells": [
  {
   "cell_type": "code",
   "execution_count": 1,
   "metadata": {},
   "outputs": [
    {
     "data": {
      "text/html": [
       "<div>\n",
       "<style scoped>\n",
       "    .dataframe tbody tr th:only-of-type {\n",
       "        vertical-align: middle;\n",
       "    }\n",
       "\n",
       "    .dataframe tbody tr th {\n",
       "        vertical-align: top;\n",
       "    }\n",
       "\n",
       "    .dataframe thead th {\n",
       "        text-align: right;\n",
       "    }\n",
       "</style>\n",
       "<table border=\"1\" class=\"dataframe\">\n",
       "  <thead>\n",
       "    <tr style=\"text-align: right;\">\n",
       "      <th></th>\n",
       "      <th>startTime</th>\n",
       "      <th>dataProvider</th>\n",
       "      <th>settlementDate</th>\n",
       "      <th>settlementPeriod</th>\n",
       "      <th>price</th>\n",
       "      <th>volume</th>\n",
       "    </tr>\n",
       "  </thead>\n",
       "  <tbody>\n",
       "    <tr>\n",
       "      <th>0</th>\n",
       "      <td>2024-02-02T11:30:00Z</td>\n",
       "      <td>APXMIDP</td>\n",
       "      <td>2024-02-02</td>\n",
       "      <td>24</td>\n",
       "      <td>41.73</td>\n",
       "      <td>2071.7</td>\n",
       "    </tr>\n",
       "    <tr>\n",
       "      <th>1</th>\n",
       "      <td>2024-02-02T11:30:00Z</td>\n",
       "      <td>N2EXMIDP</td>\n",
       "      <td>2024-02-02</td>\n",
       "      <td>24</td>\n",
       "      <td>0.00</td>\n",
       "      <td>0.0</td>\n",
       "    </tr>\n",
       "  </tbody>\n",
       "</table>\n",
       "</div>"
      ],
      "text/plain": [
       "              startTime dataProvider settlementDate  settlementPeriod  price  \\\n",
       "0  2024-02-02T11:30:00Z      APXMIDP     2024-02-02                24  41.73   \n",
       "1  2024-02-02T11:30:00Z     N2EXMIDP     2024-02-02                24   0.00   \n",
       "\n",
       "   volume  \n",
       "0  2071.7  \n",
       "1     0.0  "
      ]
     },
     "execution_count": 1,
     "metadata": {},
     "output_type": "execute_result"
    }
   ],
   "source": [
    "import requests\n",
    "import pandas as pd\n",
    "\n",
    "end_date = pd.Timestamp.now()\n",
    "settlementDate = (end_date - pd.Timedelta(hours=0.5)).date()\n",
    "settlementPeriod = (end_date - pd.Timedelta(hours=0.5)).hour * 2\n",
    "\n",
    "from_ = (end_date).date()\n",
    "to_ = from_\n",
    "\n",
    "web = 'https://data.elexon.co.uk/bmrs/api/v1/balancing/pricing/market-index?from=' + str(from_) + '&to=' + str(to_) + '&settlementPeriodFrom=' + str(settlementPeriod) + '&settlementPeriodTo=' + str(settlementPeriod) + '&format=json'\n",
    "r = requests.get(web)\n",
    "df = pd.DataFrame(r.json()['data'])\n",
    "df"
   ]
  }
 ],
 "metadata": {
  "kernelspec": {
   "display_name": "Python 3",
   "language": "python",
   "name": "python3"
  },
  "language_info": {
   "codemirror_mode": {
    "name": "ipython",
    "version": 3
   },
   "file_extension": ".py",
   "mimetype": "text/x-python",
   "name": "python",
   "nbconvert_exporter": "python",
   "pygments_lexer": "ipython3",
   "version": "3.11.7"
  }
 },
 "nbformat": 4,
 "nbformat_minor": 2
}
