{
 "cells": [
  {
   "cell_type": "code",
   "execution_count": null,
   "metadata": {},
   "outputs": [],
   "source": [
    "import pandas as pd"
   ]
  },
  {
   "cell_type": "code",
   "execution_count": null,
   "metadata": {},
   "outputs": [],
   "source": [
    "# get BM id data\n"
   ]
  },
  {
   "cell_type": "code",
   "execution_count": null,
   "metadata": {},
   "outputs": [],
   "source": [
    "def map_to_bus(df):\n",
    "\n",
    "    # for the LOPF want to map the storage units to the closest bus\n",
    "    # read buses data\n",
    "    df_buses = pd.read_csv('LOPF_data/buses.csv')[:29]\n",
    "    bus_location = []\n",
    "    for i in range(len(df_buses)):\n",
    "        bus_location.append({'lon': df_buses['x'][i], 'lat': df_buses['y'][i]})\n",
    "    bus_names = df_buses['name'].values\n",
    "\n",
    "    object_to_bus = []\n",
    "    for i in range(len(df)):\n",
    "        data_point = {'lon': df['x'][i], 'lat': df['y'][i]}\n",
    "        closest_bus_location = closest(bus_location, data_point)\n",
    "        closest_bus_index = bus_location.index(closest_bus_location)\n",
    "        object_to_bus.append(bus_names[closest_bus_index])\n",
    "\n",
    "    return object_to_bus"
   ]
  }
 ],
 "metadata": {
  "kernelspec": {
   "display_name": "Python 3",
   "language": "python",
   "name": "python3"
  },
  "language_info": {
   "name": "python",
   "version": "3.11.7"
  }
 },
 "nbformat": 4,
 "nbformat_minor": 2
}
