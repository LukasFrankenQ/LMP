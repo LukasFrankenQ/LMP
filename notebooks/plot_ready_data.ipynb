{
 "cells": [
  {
   "cell_type": "code",
   "execution_count": 83,
   "metadata": {},
   "outputs": [],
   "source": [
    "import pandas as pd\n",
    "import numpy as np\n",
    "from pathlib import Path\n",
    "import os\n",
    "import matplotlib.pyplot as plt\n",
    "import json\n",
    "import sys\n",
    "\n",
    "sys.path.append(str(Path.cwd().parent / 'scripts'))\n",
    "\n",
    "from _helpers import to_date_period, to_datetime"
   ]
  },
  {
   "cell_type": "code",
   "execution_count": 110,
   "metadata": {},
   "outputs": [],
   "source": [
    "plot_style = {\n",
    "    \"nodal\": \"agg\",\n",
    "    \"eso\": \"agg\",\n",
    "    \"fti\": \"all\",\n",
    "    \"national\": \"all\",\n",
    "}\n",
    "agg_method = {\n",
    "    \"wholesale_price\": \"mean\",\n",
    "}\n",
    "\n",
    "quants = [\"wholesale_price\", \"load\", \"post_balancing_price\"]\n",
    "\n",
    "root = Path.cwd().parent / 'results' / 'periods'\n",
    "\n",
    "start = pd.Timestamp('2023-05-01')\n",
    "end = pd.Timestamp('2023-05-03')\n",
    "\n",
    "considered_data = {layout: {} for layout in plot_style.keys()}\n",
    "\n",
    "def is_in_frame(ts):\n",
    "    return ts >= start and ts <= end\n",
    "\n",
    "found_timesteps = []\n",
    "\n",
    "for file in os.listdir(root):\n",
    "\n",
    "    # ts = pd.Timestamp(file.split('.')[0])\n",
    "    ts = to_datetime(*(file.split('.')[0].split('_')))\n",
    "\n",
    "    # print(\"found datetime\")\n",
    "    # print(ts)\n",
    "    \n",
    "    if not is_in_frame(ts):\n",
    "        continue\n",
    "\n",
    "    with open(root / file) as f:\n",
    "        data = json.load(f)\n",
    "\n",
    "    for ts in data.keys():\n",
    "        # ts = pd.Timestamp.from_timest(ts)\n",
    "\n",
    "        ts = pd.to_datetime(int(ts), unit='s')\n",
    "        ts_sec = str(int(ts.timestamp()))\n",
    "\n",
    "        if not is_in_frame(ts):\n",
    "            continue\n",
    "\n",
    "        found_timesteps.append(ts)\n",
    "    \n",
    "        for layout in plot_style.keys():\n",
    "            \n",
    "            regions = data[ts_sec][layout][\"geographies\"].keys()\n",
    "\n",
    "            considered_data[layout][ts] = {}\n",
    "\n",
    "            for region in regions:\n",
    "                considered_data[layout][ts][region] = {}\n",
    "\n",
    "                for quant in quants:\n",
    "                    considered_data[layout][ts][region][quant] = data[ts_sec][layout][\"geographies\"][region][\"variables\"][quant]\n",
    "\n",
    "                # considered_data[layout][ts][region][quant].append(\n",
    "                #     data[ts_sec][layout][\"geographies\"][region][\"variables\"][quant])\n",
    "\n",
    "            # considered_data[layout][ts] = data[ts]['nodal']\n",
    "\n",
    "# found_timesteps\n",
    "# considered_data"
   ]
  },
  {
   "cell_type": "code",
   "execution_count": 111,
   "metadata": {},
   "outputs": [],
   "source": [
    "def get_flowconstraints(daterange):\n",
    "\n",
    "    prices = pd.DataFrame({'daterange':daterange})\n",
    "    filename = Path.cwd().parent / 'resources' / 'live_data'\n",
    "    template = '{}_{}'\n",
    "    \n",
    "    def get_constraint(ts):\n",
    "        date, period = to_date_period(ts)\n",
    "        return (\n",
    "            pd.read_csv(filename / template.format(date, period) / 'constraint_flows.csv', index_col=0)\n",
    "            [['limit']]\n",
    "            .rename(columns={'limit': ts})\n",
    "        )\n",
    "    contraints = list()\n",
    "    for dt in daterange:\n",
    "        contraints.append(get_constraint(dt))\n",
    "\n",
    "    # prices['price'] = prices['daterange'].apply(get_price)\n",
    "\n",
    "    return pd.concat(contraints, axis=1).T\n",
    "\n",
    "\n",
    "# flow_constraints = get_flowconstraints(found_timesteps)"
   ]
  },
  {
   "cell_type": "code",
   "execution_count": 112,
   "metadata": {},
   "outputs": [],
   "source": [
    "def get_real_prices(daterange):\n",
    "\n",
    "    filename = Path.cwd().parent / 'data' / 'market_index_winter.csv'\n",
    "    prices = pd.read_csv(filename, index_col=0, parse_dates=True)\n",
    "\n",
    "    # def get_price(ts):\n",
    "    # date, period = to_date_period(ts)\n",
    "    #     return pd.read_csv(filename / template.format(date, period) / 'price_stats.csv', index_col=0).loc[\"market_index\"]\n",
    "    # prices['price'] = prices['daterange'].apply(get_price)\n",
    "    # return prices.set_index('daterange')['price']\n",
    "\n",
    "    _, ax = plt.subplots(1, 1, figsize=(16, 4))\n",
    "    ax.plot(prices.sort_index().loc[pd.Timestamp('2024-03-01'):pd.Timestamp('2024-03-30')], label='market_index')\n",
    "    plt.show()\n",
    "\n",
    "    return prices.loc[daterange]\n",
    "\n",
    "# real_prices = get_real_prices(found_timesteps)\n"
   ]
  },
  {
   "cell_type": "code",
   "execution_count": 113,
   "metadata": {},
   "outputs": [],
   "source": [
    "'''\n",
    "quant = 'marginal_price'\n",
    "\n",
    "fig, axs = plt.subplots(len(plot_style) + 1, 1, figsize=(12, 3*(len(plot_style) + 1)))\n",
    "\n",
    "for i, layout in enumerate(plot_style.keys()):\n",
    "\n",
    "    regions = list((c := considered_data[layout])[list(c)[0]].keys())\n",
    "    df = pd.DataFrame(columns=regions, index=found_timesteps)\n",
    "\n",
    "    for region in regions:\n",
    "        df[region] = [considered_data[layout][ts][region][quant] for ts in found_timesteps]\n",
    "\n",
    "    ax = axs[i]\n",
    "    df = df.sort_index()\n",
    "\n",
    "    if plot_style[layout] == \"agg\":\n",
    "        ax.plot(\n",
    "            getattr(df, agg_method.get(quant, \"sum\"))(axis=1), label=\"modelled mean\")\n",
    "\n",
    "        for col in df.columns:\n",
    "            ax.plot(df[col], linestyle='--', linewidth=0.5, alpha=0.5, color='grey')\n",
    "\n",
    "    else:\n",
    "        for col in df.columns:\n",
    "            ax.plot(df[col], label=col, linestyle='-', linewidth=1.5,)\n",
    "    # ax.plot(real_prices, label=\"real wholesale price\", linewidth=1.5, color='darkred')\n",
    "\n",
    "    ax.set_ylabel('Price [£/MWh]')\n",
    "\n",
    "for border in flow_constraints.columns:\n",
    "    axs[-1].plot(flow_constraints[border].mul(1e-3), label=border)\n",
    "    axs[-1].set_ylabel('Max Flow [GW]')\n",
    "\n",
    "for ax in axs:\n",
    "    ax.grid(True, linestyle='--', alpha=0.5)\n",
    "    ax.legend(bbox_to_anchor=(1.01, 1), loc='upper left', borderaxespad=0.)\n",
    "\n",
    "plt.show()\n",
    "'''\n",
    "\n",
    "pass"
   ]
  },
  {
   "cell_type": "code",
   "execution_count": 114,
   "metadata": {},
   "outputs": [],
   "source": [
    "quant = 'post_balancing_price'\n",
    "# quant = 'wholesale_price'"
   ]
  },
  {
   "cell_type": "code",
   "execution_count": 115,
   "metadata": {},
   "outputs": [
    {
     "data": {
      "image/png": "[encoded data removed]",
      "text/plain": [
       "<Figure size 1200x300 with 1 Axes>"
      ]
     },
     "metadata": {},
     "output_type": "display_data"
    }
   ],
   "source": [
    "import numpy as np\n",
    "import pandas as pd\n",
    "import matplotlib.pyplot as plt\n",
    "\n",
    "\n",
    "fig, ax = plt.subplots(1, 1, figsize=(12, 3))\n",
    "\n",
    "for i, layout in enumerate(plot_style.keys()):\n",
    "\n",
    "    regions = list((c := considered_data[layout])[list(c)[0]].keys())\n",
    "    marginal_prices = pd.DataFrame(columns=regions, index=found_timesteps)\n",
    "    loads = pd.DataFrame(columns=regions, index=found_timesteps)\n",
    "\n",
    "    for region in regions:\n",
    "        marginal_prices[region] = [considered_data[layout][ts][region][quant] for ts in found_timesteps]\n",
    "        loads[region] = [considered_data[layout][ts][region][\"load\"] for ts in found_timesteps]\n",
    "\n",
    "    weights = loads.T.div(loads.sum(axis=1)).iloc[:,0].rename('load_weights')\n",
    "    total_price = marginal_prices.mul(weights).sum(axis=1)\n",
    "\n",
    "    # print('total price')\n",
    "    # print(total_price)\n",
    "    total_price = total_price.sort_index()\n",
    "\n",
    "    # if plot_style[layout] == \"agg\":\n",
    "    ax.plot(total_price, label=layout)\n",
    "\n",
    "# ax.plot(real_prices.sort_index(), label=\"real\")\n",
    "\n",
    "ax.grid(True, linestyle='--', alpha=0.5)\n",
    "ax.legend(bbox_to_anchor=(1.01, 1), loc='upper left', borderaxespad=0.)\n",
    "\n",
    "nice_names = {\n",
    "    \"wholesale_price\": \"Wholesale Price [£/MWh]\",\n",
    "    \"post_balancing_price\": \"Post Balancing Price [£/MWh]\"\n",
    "}\n",
    "\n",
    "ax.set_ylabel(nice_names[quant])\n",
    "ax.set_xlabel('Time')\n",
    "\n",
    "ax.set_ylim(-15, 200)\n",
    "\n",
    "plt.show()"
   ]
  },
  {
   "cell_type": "code",
   "execution_count": 8,
   "metadata": {},
   "outputs": [
    {
     "ename": "KeyError",
     "evalue": "'marginal_price'",
     "output_type": "error",
     "traceback": [
      "\u001b[1;31m---------------------------------------------------------------------------\u001b[0m",
      "\u001b[1;31mKeyError\u001b[0m                                  Traceback (most recent call last)",
      "Cell \u001b[1;32mIn[8], line 17\u001b[0m\n\u001b[0;32m     14\u001b[0m loads \u001b[38;5;241m=\u001b[39m pd\u001b[38;5;241m.\u001b[39mDataFrame(columns\u001b[38;5;241m=\u001b[39mregions, index\u001b[38;5;241m=\u001b[39mfound_timesteps)\n\u001b[0;32m     16\u001b[0m \u001b[38;5;28;01mfor\u001b[39;00m region \u001b[38;5;129;01min\u001b[39;00m regions:\n\u001b[1;32m---> 17\u001b[0m     marginal_prices[region] \u001b[38;5;241m=\u001b[39m [considered_data[\u001b[38;5;124m\"\u001b[39m\u001b[38;5;124mnational\u001b[39m\u001b[38;5;124m\"\u001b[39m][ts][region][\u001b[38;5;124m\"\u001b[39m\u001b[38;5;124mmarginal_price\u001b[39m\u001b[38;5;124m\"\u001b[39m] \u001b[38;5;28;01mfor\u001b[39;00m ts \u001b[38;5;129;01min\u001b[39;00m found_timesteps]\n\u001b[0;32m     18\u001b[0m     loads[region] \u001b[38;5;241m=\u001b[39m [considered_data[\u001b[38;5;124m\"\u001b[39m\u001b[38;5;124mnational\u001b[39m\u001b[38;5;124m\"\u001b[39m][ts][region][\u001b[38;5;124m\"\u001b[39m\u001b[38;5;124mload\u001b[39m\u001b[38;5;124m\"\u001b[39m] \u001b[38;5;28;01mfor\u001b[39;00m ts \u001b[38;5;129;01min\u001b[39;00m found_timesteps]\n\u001b[0;32m     20\u001b[0m weights \u001b[38;5;241m=\u001b[39m loads\u001b[38;5;241m.\u001b[39mT\u001b[38;5;241m.\u001b[39mdiv(loads\u001b[38;5;241m.\u001b[39msum(axis\u001b[38;5;241m=\u001b[39m\u001b[38;5;241m1\u001b[39m))\u001b[38;5;241m.\u001b[39miloc[:,\u001b[38;5;241m0\u001b[39m]\u001b[38;5;241m.\u001b[39mrename(\u001b[38;5;124m'\u001b[39m\u001b[38;5;124mload_weights\u001b[39m\u001b[38;5;124m'\u001b[39m)\n",
      "Cell \u001b[1;32mIn[8], line 17\u001b[0m, in \u001b[0;36m<listcomp>\u001b[1;34m(.0)\u001b[0m\n\u001b[0;32m     14\u001b[0m loads \u001b[38;5;241m=\u001b[39m pd\u001b[38;5;241m.\u001b[39mDataFrame(columns\u001b[38;5;241m=\u001b[39mregions, index\u001b[38;5;241m=\u001b[39mfound_timesteps)\n\u001b[0;32m     16\u001b[0m \u001b[38;5;28;01mfor\u001b[39;00m region \u001b[38;5;129;01min\u001b[39;00m regions:\n\u001b[1;32m---> 17\u001b[0m     marginal_prices[region] \u001b[38;5;241m=\u001b[39m [\u001b[43mconsidered_data\u001b[49m\u001b[43m[\u001b[49m\u001b[38;5;124;43m\"\u001b[39;49m\u001b[38;5;124;43mnational\u001b[39;49m\u001b[38;5;124;43m\"\u001b[39;49m\u001b[43m]\u001b[49m\u001b[43m[\u001b[49m\u001b[43mts\u001b[49m\u001b[43m]\u001b[49m\u001b[43m[\u001b[49m\u001b[43mregion\u001b[49m\u001b[43m]\u001b[49m\u001b[43m[\u001b[49m\u001b[38;5;124;43m\"\u001b[39;49m\u001b[38;5;124;43mmarginal_price\u001b[39;49m\u001b[38;5;124;43m\"\u001b[39;49m\u001b[43m]\u001b[49m \u001b[38;5;28;01mfor\u001b[39;00m ts \u001b[38;5;129;01min\u001b[39;00m found_timesteps]\n\u001b[0;32m     18\u001b[0m     loads[region] \u001b[38;5;241m=\u001b[39m [considered_data[\u001b[38;5;124m\"\u001b[39m\u001b[38;5;124mnational\u001b[39m\u001b[38;5;124m\"\u001b[39m][ts][region][\u001b[38;5;124m\"\u001b[39m\u001b[38;5;124mload\u001b[39m\u001b[38;5;124m\"\u001b[39m] \u001b[38;5;28;01mfor\u001b[39;00m ts \u001b[38;5;129;01min\u001b[39;00m found_timesteps]\n\u001b[0;32m     20\u001b[0m weights \u001b[38;5;241m=\u001b[39m loads\u001b[38;5;241m.\u001b[39mT\u001b[38;5;241m.\u001b[39mdiv(loads\u001b[38;5;241m.\u001b[39msum(axis\u001b[38;5;241m=\u001b[39m\u001b[38;5;241m1\u001b[39m))\u001b[38;5;241m.\u001b[39miloc[:,\u001b[38;5;241m0\u001b[39m]\u001b[38;5;241m.\u001b[39mrename(\u001b[38;5;124m'\u001b[39m\u001b[38;5;124mload_weights\u001b[39m\u001b[38;5;124m'\u001b[39m)\n",
      "\u001b[1;31mKeyError\u001b[0m: 'marginal_price'"
     ]
    },
    {
     "data": {
      "image/png": "[encoded data removed]",
      "text/plain": [
       "<Figure size 1200x900 with 3 Axes>"
      ]
     },
     "metadata": {},
     "output_type": "display_data"
    }
   ],
   "source": [
    "import numpy as np\n",
    "import pandas as pd\n",
    "import matplotlib.pyplot as plt\n",
    "\n",
    "extreme_times = dict()\n",
    "\n",
    "plot_layouts = ['nodal', 'eso', 'fti']\n",
    "\n",
    "fig, axs = plt.subplots(len(plot_style)-1, 1, figsize=(12, 3*(len(plot_style)-1)))\n",
    "\n",
    "# compute marginal price in national layout for reference\n",
    "regions = list((c := considered_data[\"national\"])[list(c)[0]].keys())\n",
    "marginal_prices = pd.DataFrame(columns=regions, index=found_timesteps)\n",
    "loads = pd.DataFrame(columns=regions, index=found_timesteps)\n",
    "\n",
    "for region in regions:\n",
    "    marginal_prices[region] = [considered_data[\"national\"][ts][region][\"marginal_price\"] for ts in found_timesteps]\n",
    "    loads[region] = [considered_data[\"national\"][ts][region][\"load\"] for ts in found_timesteps]\n",
    "\n",
    "weights = loads.T.div(loads.sum(axis=1)).iloc[:,0].rename('load_weights')\n",
    "national_price = marginal_prices.mul(weights).sum(axis=1).sort_index()\n",
    "\n",
    "extreme_n = 3\n",
    "\n",
    "for i, layout in enumerate(plot_layouts):\n",
    "\n",
    "    if layout == 'national':\n",
    "        continue\n",
    "\n",
    "    ax = axs[i]\n",
    "\n",
    "    regions = list((c := considered_data[layout])[list(c)[0]].keys())\n",
    "    marginal_prices = pd.DataFrame(columns=regions, index=found_timesteps)\n",
    "    loads = pd.DataFrame(columns=regions, index=found_timesteps)\n",
    "\n",
    "    for region in regions:\n",
    "        marginal_prices[region] = [considered_data[layout][ts][region][\"marginal_price\"] for ts in found_timesteps]\n",
    "        loads[region] = [considered_data[layout][ts][region][\"load\"] for ts in found_timesteps]\n",
    "\n",
    "    weights = loads.T.div(loads.sum(axis=1)).iloc[:,0].rename('load_weights')\n",
    "    \n",
    "    marginal_prices = marginal_prices.sort_index()\n",
    "    total_price = marginal_prices.mul(weights).sum(axis=1)\n",
    "\n",
    "    totals = marginal_prices.sum().sort_values(ascending=False).index\n",
    "    worst = totals[:extreme_n]\n",
    "    best = totals[-extreme_n:]\n",
    "\n",
    "    method = 'capitalize' if len(layout) > 3 else 'upper'\n",
    "    ax.plot(total_price, color='green', label=None)# label=f\"{getattr(layout, method)()} Regions\", color='green')\n",
    "    ax.plot(national_price, color='purple', label=None)#, label=\"National Market\")\n",
    "\n",
    "    ax.set_ylabel('Price [£/MWh]')\n",
    "\n",
    "    extreme_kwargs = dict(linestyle='--', linewidth=1, alpha=0.5)\n",
    "\n",
    "    labels = [f\"{getattr(layout, method)()} Regions\", \"National Market\"]\n",
    "    handles = [\n",
    "        plt.Line2D([0], [0], color='g'), plt.Line2D([0], [0], color='green'),\n",
    "        plt.Line2D([0], [0], color='g'), plt.Line2D([0], [0], color='purple'),\n",
    "    ]\n",
    "\n",
    "    labels.append('Highest Prices')\n",
    "    handles.append(plt.Line2D([0], [0], color='r', **extreme_kwargs))\n",
    "\n",
    "    marginal_prices[worst].plot(ax=ax, **extreme_kwargs)\n",
    "\n",
    "    labels.append('Lowest Prices')\n",
    "    handles.append(plt.Line2D([0], [0], color='b', **extreme_kwargs))\n",
    "\n",
    "    marginal_prices[best].plot(ax=ax, color='blue', **extreme_kwargs)\n",
    "\n",
    "    diff = total_price - national_price\n",
    "    worst_period = diff.idxmax()\n",
    "    best_period = diff.idxmin()\n",
    "\n",
    "    ax.axvline(worst_period, color='orange', linestyle='--', linewidth=0.8)\n",
    "    labels.append('Worst Period')    \n",
    "    handles.append(plt.Line2D([0], [0], color='orange', linestyle='--', linewidth=0.8))\n",
    "\n",
    "    ax.axvline(best_period, color='brown', linestyle='--', linewidth=0.8)\n",
    "    labels.append('Best Period')\n",
    "    handles.append(plt.Line2D([0], [0], color='brown', linestyle='--', linewidth=0.8))\n",
    "\n",
    "    worst_day = diff.resample('d').mean().idxmax()\n",
    "    best_day = diff.resample('d').mean().idxmin()\n",
    "\n",
    "    ax.axvline(worst_day, color='orange', linestyle=':', linewidth=1.2)\n",
    "    labels.append('Worst Day')    \n",
    "    handles.append(plt.Line2D([0], [0], color='orange', linestyle=':', linewidth=1.2))\n",
    "\n",
    "    ax.axvline(best_day, color='brown', linestyle=':', linewidth=1.2)\n",
    "    labels.append('Best Day')\n",
    "    handles.append(plt.Line2D([0], [0], color='brown', linestyle=':', linewidth=1.2))\n",
    "    ax.legend(handles[2:], labels, bbox_to_anchor=(1.01, 1), loc='upper left', borderaxespad=0.)\n",
    "\n",
    "    inner = {}\n",
    "    for quant in ['best_period', 'worst_period', 'best_day', 'worst_day']:\n",
    "        inner[quant] = globals()[quant]\n",
    "    extreme_times[layout] = inner\n",
    "\n",
    "for ax in axs:\n",
    "    ax.grid(True, linestyle='--', alpha=0.5)\n",
    "\n",
    "    ax.set_ylim(-5, 125)\n",
    "    ax.set_ylabel('Price [£/MWh]')\n",
    "    ax.set_xlim(start, end)\n",
    "\n",
    "for ax in axs[:-1]: ax.set_xticklabels([])\n",
    "\n",
    "axs[-1].set_xlabel('Time')\n",
    "\n",
    "plt.tight_layout()\n",
    "plt.show()"
   ]
  },
  {
   "cell_type": "code",
   "execution_count": 83,
   "metadata": {},
   "outputs": [
    {
     "data": {
      "text/plain": [
       "{'nodal': {'best_period': Timestamp('2024-03-08 18:30:00'),\n",
       "  'worst_period': Timestamp('2024-03-09 11:00:00'),\n",
       "  'best_day': Timestamp('2024-03-08 00:00:00'),\n",
       "  'worst_day': Timestamp('2024-03-14 00:00:00')},\n",
       " 'eso': {'best_period': Timestamp('2024-03-08 18:30:00'),\n",
       "  'worst_period': Timestamp('2024-03-10 11:00:00'),\n",
       "  'best_day': Timestamp('2024-03-08 00:00:00'),\n",
       "  'worst_day': Timestamp('2024-03-10 00:00:00')},\n",
       " 'fti': {'best_period': Timestamp('2024-03-08 18:30:00'),\n",
       "  'worst_period': Timestamp('2024-03-09 11:00:00'),\n",
       "  'best_day': Timestamp('2024-03-08 00:00:00'),\n",
       "  'worst_day': Timestamp('2024-03-14 00:00:00')}}"
      ]
     },
     "execution_count": 83,
     "metadata": {},
     "output_type": "execute_result"
    }
   ],
   "source": [
    "extreme_times"
   ]
  },
  {
   "cell_type": "code",
   "execution_count": 77,
   "metadata": {},
   "outputs": [
    {
     "name": "stdout",
     "output_type": "stream",
     "text": [
      "         offer volume  offer price  bid volume  bid price  offer revenue  \\\n",
      "SGRWO-2           0.0       1500.0   12.016667      100.0            0.0   \n",
      "SGRWO-3           0.0       1500.0   25.025000      100.0            0.0   \n",
      "SGRWO-4           0.0       1500.0   24.033333      100.0            0.0   \n",
      "FOYE-1            0.0         85.0   77.500000       50.0            0.0   \n",
      "MOWEO-3           0.0       9999.0   91.000000     9999.0            0.0   \n",
      "FASN2             0.0         80.0    7.000000       70.0            0.0   \n",
      "FASN3             0.0         80.0    6.000000       70.0            0.0   \n",
      "FASN-1            0.0         80.0    7.000000       70.0            0.0   \n",
      "SEAB-2          120.0        149.0    0.000000       30.0        17880.0   \n",
      "SGRWO-5           0.0       1500.0   13.516667      100.0            0.0   \n",
      "JAMBB-1           0.0       9999.0    1.416667     9999.0            0.0   \n",
      "GORDW-2           0.0        500.0   16.016667      100.0            0.0   \n",
      "PEHE-1            0.0         85.0  450.000000       80.0            0.0   \n",
      "\n",
      "           bid revenue  \n",
      "SGRWO-2    1201.666667  \n",
      "SGRWO-3    2502.500000  \n",
      "SGRWO-4    2403.333333  \n",
      "FOYE-1     3875.000000  \n",
      "MOWEO-3  909909.000000  \n",
      "FASN2       490.000000  \n",
      "FASN3       420.000000  \n",
      "FASN-1      490.000000  \n",
      "SEAB-2        0.000000  \n",
      "SGRWO-5    1351.666667  \n",
      "JAMBB-1   14165.250000  \n",
      "GORDW-2    1601.666667  \n",
      "PEHE-1    36000.000000  \n",
      "17880.0\n",
      "974410.0833333333\n"
     ]
    }
   ],
   "source": [
    "balance = pd.read_csv(Path.cwd().parent / 'resources' / 'live_data' / '2024-03-06_8' / 'real_balancing_actions.csv', index_col=0)\n",
    "print(balance)\n",
    "\n",
    "offers = balance.loc[balance['offer volume'] > 0]\n",
    "\n",
    "offer_rev = balance['offer revenue'].sum()\n",
    "print(offer_rev)\n",
    "\n",
    "bid_rev = balance['bid revenue'].sum()\n",
    "print(bid_rev)"
   ]
  },
  {
   "cell_type": "code",
   "execution_count": 88,
   "metadata": {},
   "outputs": [
    {
     "data": {
      "text/html": [
       "<div>\n",
       "<style scoped>\n",
       "    .dataframe tbody tr th:only-of-type {\n",
       "        vertical-align: middle;\n",
       "    }\n",
       "\n",
       "    .dataframe tbody tr th {\n",
       "        vertical-align: top;\n",
       "    }\n",
       "\n",
       "    .dataframe thead th {\n",
       "        text-align: right;\n",
       "    }\n",
       "</style>\n",
       "<table border=\"1\" class=\"dataframe\">\n",
       "  <thead>\n",
       "    <tr style=\"text-align: right;\">\n",
       "      <th></th>\n",
       "      <th>NationalGridBmUnit</th>\n",
       "      <th>PN</th>\n",
       "      <th>MELS</th>\n",
       "    </tr>\n",
       "  </thead>\n",
       "  <tbody>\n",
       "    <tr>\n",
       "      <th>562</th>\n",
       "      <td>FASN3</td>\n",
       "      <td>19.0</td>\n",
       "      <td>19</td>\n",
       "    </tr>\n",
       "    <tr>\n",
       "      <th>563</th>\n",
       "      <td>FASN-4</td>\n",
       "      <td>8.0</td>\n",
       "      <td>8</td>\n",
       "    </tr>\n",
       "    <tr>\n",
       "      <th>1577</th>\n",
       "      <td>FASN-1</td>\n",
       "      <td>21.0</td>\n",
       "      <td>21</td>\n",
       "    </tr>\n",
       "    <tr>\n",
       "      <th>1578</th>\n",
       "      <td>FASN2</td>\n",
       "      <td>21.0</td>\n",
       "      <td>21</td>\n",
       "    </tr>\n",
       "  </tbody>\n",
       "</table>\n",
       "</div>"
      ],
      "text/plain": [
       "     NationalGridBmUnit    PN  MELS\n",
       "562               FASN3  19.0    19\n",
       "563              FASN-4   8.0     8\n",
       "1577             FASN-1  21.0    21\n",
       "1578              FASN2  21.0    21"
      ]
     },
     "execution_count": 88,
     "metadata": {},
     "output_type": "execute_result"
    }
   ],
   "source": [
    "# a = pn.reset_index()\n",
    "a.loc[a.NationalGridBmUnit.str.contains(\"FASN\")]"
   ]
  },
  {
   "cell_type": "code",
   "execution_count": 89,
   "metadata": {},
   "outputs": [
    {
     "name": "stdout",
     "output_type": "stream",
     "text": [
      "PN      19.0\n",
      "MELS    19.0\n",
      "Name: FASN3, dtype: float64\n"
     ]
    }
   ],
   "source": [
    "import os\n",
    "os.listdir(Path.cwd().parent / 'resources')\n",
    "\n",
    "estcost = pd.read_csv(Path.cwd().parent / 'resources' / 'bmu_cost_estimates.csv', index_col=0).rename(columns={'0': 'cost_estimate'})\n",
    "pn = pd.read_csv(Path.cwd().parent / 'resources' / 'live_data' / '2024-03-06_8' / 'elexon_bmus.csv', index_col=0)\n",
    "\n",
    "unit = 'FASN3'\n",
    "# print(estcost.loc[unit])\n",
    "\n",
    "print(pn.loc[unit])"
   ]
  },
  {
   "cell_type": "code",
   "execution_count": 90,
   "metadata": {},
   "outputs": [
    {
     "data": {
      "text/plain": [
       "28.94736842105263"
      ]
     },
     "execution_count": 90,
     "metadata": {},
     "output_type": "execute_result"
    }
   ],
   "source": [
    "550 / 19"
   ]
  },
  {
   "cell_type": "code",
   "execution_count": 106,
   "metadata": {},
   "outputs": [],
   "source": [
    "base = Path.cwd().parent / 'resources' / 'live_data'\n",
    "\n",
    "for file in os.listdir(base):\n",
    "\n",
    "    if 'regions_onshore_s.geojson' in os.listdir(base / file):\n",
    "        os.remove(base / file / 'regions_onshore_s.geojson')\n",
    "\n",
    "    if 'maps.pdf' in os.listdir(base / file):\n",
    "        os.remove(base / file / 'maps.pdf')"
   ]
  },
  {
   "cell_type": "code",
   "execution_count": 8,
   "metadata": {},
   "outputs": [],
   "source": [
    "import sys\n",
    "import pandas as pd\n",
    "import numpy as np\n",
    "from pathlib import Path\n",
    "\n",
    "sys.path.append(str(Path.cwd().parent / 'scripts'))\n",
    "\n",
    "from _helpers import to_date_period, to_datetime"
   ]
  },
  {
   "cell_type": "code",
   "execution_count": 9,
   "metadata": {},
   "outputs": [
    {
     "data": {
      "text/plain": [
       "Timestamp('2024-04-02 01:00:00')"
      ]
     },
     "execution_count": 9,
     "metadata": {},
     "output_type": "execute_result"
    }
   ],
   "source": [
    "to_datetime(\"2024-04-02\", 1)"
   ]
  },
  {
   "cell_type": "code",
   "execution_count": 18,
   "metadata": {},
   "outputs": [
    {
     "data": {
      "text/html": [
       "<div>\n",
       "<style scoped>\n",
       "    .dataframe tbody tr th:only-of-type {\n",
       "        vertical-align: middle;\n",
       "    }\n",
       "\n",
       "    .dataframe tbody tr th {\n",
       "        vertical-align: top;\n",
       "    }\n",
       "\n",
       "    .dataframe thead th {\n",
       "        text-align: right;\n",
       "    }\n",
       "</style>\n",
       "<table border=\"1\" class=\"dataframe\">\n",
       "  <thead>\n",
       "    <tr style=\"text-align: right;\">\n",
       "      <th></th>\n",
       "      <th>PublishTime</th>\n",
       "      <th>StartTime</th>\n",
       "      <th>SettlementDate</th>\n",
       "      <th>SettlementPeriod</th>\n",
       "      <th>Quantity</th>\n",
       "    </tr>\n",
       "  </thead>\n",
       "  <tbody>\n",
       "    <tr>\n",
       "      <th>0</th>\n",
       "      <td>2024-03-08T00:25:09Z</td>\n",
       "      <td>2024-03-07T23:30:00Z</td>\n",
       "      <td>2024-03-07</td>\n",
       "      <td>48</td>\n",
       "      <td>31350.0</td>\n",
       "    </tr>\n",
       "    <tr>\n",
       "      <th>1</th>\n",
       "      <td>2024-03-07T23:55:08Z</td>\n",
       "      <td>2024-03-07T23:00:00Z</td>\n",
       "      <td>2024-03-07</td>\n",
       "      <td>47</td>\n",
       "      <td>32633.0</td>\n",
       "    </tr>\n",
       "    <tr>\n",
       "      <th>2</th>\n",
       "      <td>2024-03-07T23:25:08Z</td>\n",
       "      <td>2024-03-07T22:30:00Z</td>\n",
       "      <td>2024-03-07</td>\n",
       "      <td>46</td>\n",
       "      <td>34744.0</td>\n",
       "    </tr>\n",
       "    <tr>\n",
       "      <th>3</th>\n",
       "      <td>2024-03-07T22:55:09Z</td>\n",
       "      <td>2024-03-07T22:00:00Z</td>\n",
       "      <td>2024-03-07</td>\n",
       "      <td>45</td>\n",
       "      <td>36621.0</td>\n",
       "    </tr>\n",
       "    <tr>\n",
       "      <th>4</th>\n",
       "      <td>2024-03-07T22:25:09Z</td>\n",
       "      <td>2024-03-07T21:30:00Z</td>\n",
       "      <td>2024-03-07</td>\n",
       "      <td>44</td>\n",
       "      <td>40442.0</td>\n",
       "    </tr>\n",
       "    <tr>\n",
       "      <th>...</th>\n",
       "      <td>...</td>\n",
       "      <td>...</td>\n",
       "      <td>...</td>\n",
       "      <td>...</td>\n",
       "      <td>...</td>\n",
       "    </tr>\n",
       "    <tr>\n",
       "      <th>91</th>\n",
       "      <td>2024-03-06T02:55:09Z</td>\n",
       "      <td>2024-03-06T02:00:00Z</td>\n",
       "      <td>2024-03-06</td>\n",
       "      <td>5</td>\n",
       "      <td>30087.0</td>\n",
       "    </tr>\n",
       "    <tr>\n",
       "      <th>92</th>\n",
       "      <td>2024-03-06T02:25:08Z</td>\n",
       "      <td>2024-03-06T01:30:00Z</td>\n",
       "      <td>2024-03-06</td>\n",
       "      <td>4</td>\n",
       "      <td>31309.0</td>\n",
       "    </tr>\n",
       "    <tr>\n",
       "      <th>93</th>\n",
       "      <td>2024-03-06T01:55:09Z</td>\n",
       "      <td>2024-03-06T01:00:00Z</td>\n",
       "      <td>2024-03-06</td>\n",
       "      <td>3</td>\n",
       "      <td>32117.0</td>\n",
       "    </tr>\n",
       "    <tr>\n",
       "      <th>94</th>\n",
       "      <td>2024-03-06T01:25:09Z</td>\n",
       "      <td>2024-03-06T00:30:00Z</td>\n",
       "      <td>2024-03-06</td>\n",
       "      <td>2</td>\n",
       "      <td>32685.0</td>\n",
       "    </tr>\n",
       "    <tr>\n",
       "      <th>95</th>\n",
       "      <td>2024-03-06T00:55:09Z</td>\n",
       "      <td>2024-03-06T00:00:00Z</td>\n",
       "      <td>2024-03-06</td>\n",
       "      <td>1</td>\n",
       "      <td>32403.0</td>\n",
       "    </tr>\n",
       "  </tbody>\n",
       "</table>\n",
       "<p>96 rows × 5 columns</p>\n",
       "</div>"
      ],
      "text/plain": [
       "             PublishTime             StartTime SettlementDate  \\\n",
       "0   2024-03-08T00:25:09Z  2024-03-07T23:30:00Z     2024-03-07   \n",
       "1   2024-03-07T23:55:08Z  2024-03-07T23:00:00Z     2024-03-07   \n",
       "2   2024-03-07T23:25:08Z  2024-03-07T22:30:00Z     2024-03-07   \n",
       "3   2024-03-07T22:55:09Z  2024-03-07T22:00:00Z     2024-03-07   \n",
       "4   2024-03-07T22:25:09Z  2024-03-07T21:30:00Z     2024-03-07   \n",
       "..                   ...                   ...            ...   \n",
       "91  2024-03-06T02:55:09Z  2024-03-06T02:00:00Z     2024-03-06   \n",
       "92  2024-03-06T02:25:08Z  2024-03-06T01:30:00Z     2024-03-06   \n",
       "93  2024-03-06T01:55:09Z  2024-03-06T01:00:00Z     2024-03-06   \n",
       "94  2024-03-06T01:25:09Z  2024-03-06T00:30:00Z     2024-03-06   \n",
       "95  2024-03-06T00:55:09Z  2024-03-06T00:00:00Z     2024-03-06   \n",
       "\n",
       "    SettlementPeriod  Quantity  \n",
       "0                 48   31350.0  \n",
       "1                 47   32633.0  \n",
       "2                 46   34744.0  \n",
       "3                 45   36621.0  \n",
       "4                 44   40442.0  \n",
       "..               ...       ...  \n",
       "91                 5   30087.0  \n",
       "92                 4   31309.0  \n",
       "93                 3   32117.0  \n",
       "94                 2   32685.0  \n",
       "95                 1   32403.0  \n",
       "\n",
       "[96 rows x 5 columns]"
      ]
     },
     "execution_count": 18,
     "metadata": {},
     "output_type": "execute_result"
    }
   ],
   "source": [
    "from io import StringIO\n",
    "import requests\n",
    "\n",
    "url = \"https://data.elexon.co.uk/bmrs/api/v1/demand/actual/total?from=2024-03-06&to=2024-03-07&settlementPeriodFrom=1&settlementPeriodTo=48&format=csv\"\n",
    "\n",
    "response = requests.get(url)\n",
    "data = pd.read_csv(StringIO(response.content.decode('utf-8')))\n",
    "data"
   ]
  },
  {
   "cell_type": "code",
   "execution_count": 20,
   "metadata": {},
   "outputs": [
    {
     "data": {
      "text/plain": [
       "Timestamp('2024-03-06 01:00:00')"
      ]
     },
     "execution_count": 20,
     "metadata": {},
     "output_type": "execute_result"
    }
   ],
   "source": [
    "to_datetime(\"2024-03-06\", 1)"
   ]
  },
  {
   "cell_type": "code",
   "execution_count": 1,
   "metadata": {},
   "outputs": [],
   "source": [
    "import sys\n",
    "from pathlib import Path\n",
    "\n",
    "sys.path.append(str(Path.cwd().parent / 'scripts'))\n",
    "\n",
    "from _helpers import to_date_period, to_datetime"
   ]
  },
  {
   "cell_type": "code",
   "execution_count": 18,
   "metadata": {},
   "outputs": [
    {
     "data": {
      "text/plain": [
       "Timestamp('2024-03-06 23:30:00')"
      ]
     },
     "execution_count": 18,
     "metadata": {},
     "output_type": "execute_result"
    }
   ],
   "source": [
    "td = to_datetime(\"2024-03-06\", 48)\n",
    "td"
   ]
  },
  {
   "cell_type": "code",
   "execution_count": 19,
   "metadata": {},
   "outputs": [],
   "source": [
    "import pandas as pd\n",
    "\n",
    "def to_date_period(dt):\n",
    "\n",
    "    period = (dt - dt.normalize()) // pd.Timedelta(minutes=30) + 1\n",
    "    if period <= 0:\n",
    "        date = (dt - pd.Timedelta(days=1)).strftime('%Y-%m-%d')\n",
    "        period = 48 + period\n",
    "    else:\n",
    "        date = dt.strftime('%Y-%m-%d')\n",
    "\n",
    "    return date, period"
   ]
  },
  {
   "cell_type": "code",
   "execution_count": 20,
   "metadata": {},
   "outputs": [
    {
     "data": {
      "text/plain": [
       "('2024-03-06', 48)"
      ]
     },
     "execution_count": 20,
     "metadata": {},
     "output_type": "execute_result"
    }
   ],
   "source": [
    "to_date_period(td)"
   ]
  },
  {
   "cell_type": "code",
   "execution_count": 233,
   "metadata": {},
   "outputs": [],
   "source": [
    "import os\n",
    "import pypsa\n",
    "from pathlib import Path"
   ]
  },
  {
   "cell_type": "code",
   "execution_count": 234,
   "metadata": {},
   "outputs": [],
   "source": [
    "root = Path.cwd().parent / 'resources' / 'live_data' / '2024-03-16_12'"
   ]
  },
  {
   "cell_type": "code",
   "execution_count": 235,
   "metadata": {},
   "outputs": [
    {
     "name": "stderr",
     "output_type": "stream",
     "text": [
      "INFO:pypsa.io:Imported network network_s_nodal_solved.nc has buses, carriers, generators, lines, links, loads\n"
     ]
    },
    {
     "data": {
      "text/plain": [
       "PyPSA Network 'PyPSA-Eur'\n",
       "Components:\n",
       " - Bus: 284\n",
       " - Carrier: 2\n",
       " - Generator: 259\n",
       " - Line: 414\n",
       " - Link: 2\n",
       " - Load: 284\n",
       "Snapshots: 1"
      ]
     },
     "execution_count": 235,
     "metadata": {},
     "output_type": "execute_result"
    }
   ],
   "source": [
    "n = pypsa.Network(root / 'network_s_nodal_solved.nc')\n",
    "n"
   ]
  },
  {
   "cell_type": "code",
   "execution_count": 236,
   "metadata": {},
   "outputs": [
    {
     "data": {
      "text/plain": [
       "(<matplotlib.collections.PatchCollection at 0x1c714173520>,\n",
       " <matplotlib.collections.LineCollection at 0x1c71401e890>,\n",
       " <matplotlib.collections.LineCollection at 0x1c71401e9e0>)"
      ]
     },
     "execution_count": 236,
     "metadata": {},
     "output_type": "execute_result"
    },
    {
     "name": "stderr",
     "output_type": "stream",
     "text": [
      "c:\\Users\\lukas\\miniforge3\\envs\\pypsa-eur\\lib\\site-packages\\cartopy\\mpl\\style.py:76: UserWarning: facecolor will have no effect as it has been defined as \"never\".\n",
      "  warnings.warn('facecolor will have no effect as it has been '\n"
     ]
    },
    {
     "data": {
      "image/png": "[encoded data removed]",
      "text/plain": [
       "<Figure size 640x480 with 1 Axes>"
      ]
     },
     "metadata": {},
     "output_type": "display_data"
    }
   ],
   "source": [
    "n.plot()"
   ]
  },
  {
   "cell_type": "code",
   "execution_count": 30,
   "metadata": {},
   "outputs": [
    {
     "name": "stdout",
     "output_type": "stream",
     "text": [
      "2024-05-04 18:05:58.022933\n",
      "2024-05-04 18:05:58.022933\n"
     ]
    },
    {
     "data": {
      "text/plain": [
       "36"
      ]
     },
     "execution_count": 30,
     "metadata": {},
     "output_type": "execute_result"
    }
   ],
   "source": [
    "import pandas as pd\n",
    "\n",
    "now = pd.Timestamp.now()\n",
    "print(now)\n",
    "# now = pd.Timestamp('2024-02-05 00:31:00')\n",
    "\n",
    "day = now.strftime('%Y-%m-%d')\n",
    "print(now)\n",
    "\n",
    "now.hour * 2 + now.minute // 30"
   ]
  },
  {
   "cell_type": "code",
   "execution_count": 32,
   "metadata": {},
   "outputs": [
    {
     "data": {
      "text/plain": [
       "'2024-05-04'"
      ]
     },
     "execution_count": 32,
     "metadata": {},
     "output_type": "execute_result"
    }
   ],
   "source": [
    "now.strftime('%Y-%m-%d')"
   ]
  },
  {
   "cell_type": "code",
   "execution_count": 38,
   "metadata": {},
   "outputs": [
    {
     "data": {
      "image/png": "[encoded data removed]",
      "text/plain": [
       "<Figure size 1200x300 with 1 Axes>"
      ]
     },
     "metadata": {},
     "output_type": "display_data"
    }
   ],
   "source": [
    "import matplotlib.pyplot as plt\n",
    "\n",
    "fig, ax = plt.subplots(1, 1, figsize=(12, 3))\n",
    "\n",
    "ax.text(0.5, 0.5, pd.Timestamp.now(), fontsize=12, ha='center')\n",
    "\n",
    "ax.spines['bottom'].set_visible(False)\n",
    "ax.spines['top'].set_visible(False)\n",
    "ax.spines['left'].set_visible(False)\n",
    "ax.spines['right'].set_visible(False)\n",
    "\n",
    "ax.set_xticks([])\n",
    "ax.set_yticks([])\n",
    "\n",
    "plt.savefig('current_period.png')\n",
    "\n",
    "plt.show()"
   ]
  }
 ],
 "metadata": {
  "kernelspec": {
   "display_name": "Python 3",
   "language": "python",
   "name": "python3"
  },
  "language_info": {
   "codemirror_mode": {
    "name": "ipython",
    "version": 3
   },
   "file_extension": ".py",
   "mimetype": "text/x-python",
   "name": "python",
   "nbconvert_exporter": "python",
   "pygments_lexer": "ipython3",
   "version": "3.10.12"
  }
 },
 "nbformat": 4,
 "nbformat_minor": 2
}
