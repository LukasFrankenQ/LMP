{
 "cells": [
  {
   "cell_type": "code",
   "execution_count": 4,
   "metadata": {},
   "outputs": [],
   "source": [
    "import pandas as pd\n",
    "import numpy as np\n",
    "from pathlib import Path\n",
    "import os\n",
    "import matplotlib.pyplot as plt\n",
    "import json\n",
    "import sys\n",
    "\n",
    "sys.path.append(str(Path.cwd().parent / 'scripts'))\n",
    "\n",
    "from _helpers import to_date_period, to_datetime"
   ]
  },
  {
   "cell_type": "code",
   "execution_count": 3,
   "metadata": {},
   "outputs": [
    {
     "ename": "DateParseError",
     "evalue": "Unknown datetime string format, unable to parse: 2024-03-01_1",
     "output_type": "error",
     "traceback": [
      "\u001b[1;31m---------------------------------------------------------------------------\u001b[0m",
      "\u001b[1;31mDateParseError\u001b[0m                            Traceback (most recent call last)",
      "Cell \u001b[1;32mIn[3], line 27\u001b[0m\n\u001b[0;32m     23\u001b[0m found_timesteps \u001b[38;5;241m=\u001b[39m []\n\u001b[0;32m     25\u001b[0m \u001b[38;5;28;01mfor\u001b[39;00m file \u001b[38;5;129;01min\u001b[39;00m os\u001b[38;5;241m.\u001b[39mlistdir(root):\n\u001b[1;32m---> 27\u001b[0m     ts \u001b[38;5;241m=\u001b[39m \u001b[43mpd\u001b[49m\u001b[38;5;241;43m.\u001b[39;49m\u001b[43mTimestamp\u001b[49m\u001b[43m(\u001b[49m\u001b[43mfile\u001b[49m\u001b[38;5;241;43m.\u001b[39;49m\u001b[43msplit\u001b[49m\u001b[43m(\u001b[49m\u001b[38;5;124;43m'\u001b[39;49m\u001b[38;5;124;43m.\u001b[39;49m\u001b[38;5;124;43m'\u001b[39;49m\u001b[43m)\u001b[49m\u001b[43m[\u001b[49m\u001b[38;5;241;43m0\u001b[39;49m\u001b[43m]\u001b[49m\u001b[43m)\u001b[49m\n\u001b[0;32m     29\u001b[0m     \u001b[38;5;28;01mif\u001b[39;00m \u001b[38;5;129;01mnot\u001b[39;00m is_in_frame(ts):\n\u001b[0;32m     30\u001b[0m         \u001b[38;5;28;01mcontinue\u001b[39;00m\n",
      "File \u001b[1;32mc:\\Users\\lukas\\miniforge3\\envs\\pypsa-eur\\lib\\site-packages\\pandas\\_libs\\tslibs\\timestamps.pyx:1667\u001b[0m, in \u001b[0;36mpandas._libs.tslibs.timestamps.Timestamp.__new__\u001b[1;34m()\u001b[0m\n",
      "File \u001b[1;32mc:\\Users\\lukas\\miniforge3\\envs\\pypsa-eur\\lib\\site-packages\\pandas\\_libs\\tslibs\\conversion.pyx:280\u001b[0m, in \u001b[0;36mpandas._libs.tslibs.conversion.convert_to_tsobject\u001b[1;34m()\u001b[0m\n",
      "File \u001b[1;32mc:\\Users\\lukas\\miniforge3\\envs\\pypsa-eur\\lib\\site-packages\\pandas\\_libs\\tslibs\\conversion.pyx:557\u001b[0m, in \u001b[0;36mpandas._libs.tslibs.conversion.convert_str_to_tsobject\u001b[1;34m()\u001b[0m\n",
      "File \u001b[1;32mc:\\Users\\lukas\\miniforge3\\envs\\pypsa-eur\\lib\\site-packages\\pandas\\_libs\\tslibs\\parsing.pyx:329\u001b[0m, in \u001b[0;36mpandas._libs.tslibs.parsing.parse_datetime_string\u001b[1;34m()\u001b[0m\n",
      "File \u001b[1;32mc:\\Users\\lukas\\miniforge3\\envs\\pypsa-eur\\lib\\site-packages\\pandas\\_libs\\tslibs\\parsing.pyx:658\u001b[0m, in \u001b[0;36mpandas._libs.tslibs.parsing.dateutil_parse\u001b[1;34m()\u001b[0m\n",
      "\u001b[1;31mDateParseError\u001b[0m: Unknown datetime string format, unable to parse: 2024-03-01_1"
     ]
    }
   ],
   "source": [
    "plot_style = {\n",
    "    \"nodal\": \"agg\",\n",
    "    \"eso\": \"agg\",\n",
    "    \"fti\": \"all\",\n",
    "    \"national\": \"all\",\n",
    "}\n",
    "agg_method = {\n",
    "    \"marginal_price\": \"mean\",\n",
    "}\n",
    "\n",
    "quants = [\"marginal_price\", \"load\"]\n",
    "\n",
    "root = Path.cwd().parent / 'results' / 'periods'\n",
    "\n",
    "start = pd.Timestamp('2024-03-06')\n",
    "end = pd.Timestamp('2024-03-07')\n",
    "\n",
    "considered_data = {layout: {} for layout in plot_style.keys()}\n",
    "\n",
    "def is_in_frame(ts):\n",
    "    return ts >= start and ts <= end\n",
    "\n",
    "found_timesteps = []\n",
    "\n",
    "for file in os.listdir(root):\n",
    "\n",
    "    # ts = pd.Timestamp(file.split('.')[0])\n",
    "    ts = to_datetime(*(file.split('.')[0].split('_')))\n",
    "    print(\"found datetime\")\n",
    "    print(ts)\n",
    "    \n",
    "    if not is_in_frame(ts):\n",
    "        continue\n",
    "\n",
    "    with open(root / file) as f:\n",
    "        data = json.load(f)\n",
    "\n",
    "    for ts in data.keys():\n",
    "        # ts = pd.Timestamp.from_timest(ts)\n",
    "\n",
    "        ts = pd.to_datetime(int(ts), unit='s')\n",
    "        ts_sec = str(int(ts.timestamp()))\n",
    "\n",
    "        if not is_in_frame(ts):\n",
    "            continue\n",
    "\n",
    "        found_timesteps.append(ts)\n",
    "    \n",
    "        for layout in plot_style.keys():\n",
    "            \n",
    "            regions = data[ts_sec][layout][\"geographies\"].keys()\n",
    "\n",
    "            considered_data[layout][ts] = {}\n",
    "\n",
    "            for region in regions:\n",
    "                considered_data[layout][ts][region] = {}\n",
    "\n",
    "                for quant in quants:\n",
    "                    considered_data[layout][ts][region][quant] = data[ts_sec][layout][\"geographies\"][region][\"variables\"][quant]\n",
    "\n",
    "                # considered_data[layout][ts][region][quant].append(\n",
    "                #     data[ts_sec][layout][\"geographies\"][region][\"variables\"][quant])\n",
    "\n",
    "            # considered_data[layout][ts] = data[ts]['nodal']\n",
    "\n",
    "# found_timesteps\n",
    "# considered_data"
   ]
  },
  {
   "cell_type": "code",
   "execution_count": null,
   "metadata": {},
   "outputs": [],
   "source": [
    "def get_flowconstraints(daterange):\n",
    "\n",
    "    prices = pd.DataFrame({'daterange':daterange})\n",
    "    filename = Path.cwd().parent / 'resources' / 'live_data'\n",
    "    template = '{}_{}'\n",
    "    \n",
    "    def get_constraint(ts):\n",
    "        date, period = to_date_period(ts)\n",
    "        return (\n",
    "            pd.read_csv(filename / template.format(date, period) / 'constraint_flows.csv', index_col=0)\n",
    "            [['limit']]\n",
    "            .rename(columns={'limit': ts})\n",
    "        )\n",
    "    contraints = list()\n",
    "    for dt in daterange:\n",
    "        contraints.append(get_constraint(dt))\n",
    "\n",
    "    # prices['price'] = prices['daterange'].apply(get_price)\n",
    "\n",
    "    return pd.concat(contraints, axis=1).T\n",
    "\n",
    "\n",
    "flow_constraints = get_flowconstraints(found_timesteps)"
   ]
  },
  {
   "cell_type": "code",
   "execution_count": null,
   "metadata": {},
   "outputs": [],
   "source": [
    "def get_real_prices(daterange):\n",
    "\n",
    "    prices = pd.DataFrame({'daterange':daterange})\n",
    "    filename = Path.cwd().parent / 'resources' / 'live_data'\n",
    "    template = '{}_{}'\n",
    "    \n",
    "    def get_price(ts):\n",
    "        date, period = to_date_period(ts)\n",
    "        return pd.read_csv(filename / template.format(date, period) / 'price_stats.csv', index_col=0).loc[\"market_index\"]\n",
    "    prices['price'] = prices['daterange'].apply(get_price)\n",
    "\n",
    "    return prices.set_index('daterange')['price']\n",
    "\n",
    "real_prices = get_real_prices(found_timesteps)\n"
   ]
  },
  {
   "cell_type": "code",
   "execution_count": 5,
   "metadata": {},
   "outputs": [
    {
     "ename": "IndexError",
     "evalue": "list index out of range",
     "output_type": "error",
     "traceback": [
      "\u001b[1;31m---------------------------------------------------------------------------\u001b[0m",
      "\u001b[1;31mIndexError\u001b[0m                                Traceback (most recent call last)",
      "Cell \u001b[1;32mIn[5], line 7\u001b[0m\n\u001b[0;32m      3\u001b[0m fig, axs \u001b[38;5;241m=\u001b[39m plt\u001b[38;5;241m.\u001b[39msubplots(\u001b[38;5;28mlen\u001b[39m(plot_style) \u001b[38;5;241m+\u001b[39m \u001b[38;5;241m1\u001b[39m, \u001b[38;5;241m1\u001b[39m, figsize\u001b[38;5;241m=\u001b[39m(\u001b[38;5;241m12\u001b[39m, \u001b[38;5;241m3\u001b[39m\u001b[38;5;241m*\u001b[39m(\u001b[38;5;28mlen\u001b[39m(plot_style) \u001b[38;5;241m+\u001b[39m \u001b[38;5;241m1\u001b[39m)))\n\u001b[0;32m      5\u001b[0m \u001b[38;5;28;01mfor\u001b[39;00m i, layout \u001b[38;5;129;01min\u001b[39;00m \u001b[38;5;28menumerate\u001b[39m(plot_style\u001b[38;5;241m.\u001b[39mkeys()):\n\u001b[1;32m----> 7\u001b[0m     regions \u001b[38;5;241m=\u001b[39m \u001b[38;5;28mlist\u001b[39m((c \u001b[38;5;241m:=\u001b[39m considered_data[layout])[\u001b[38;5;28;43mlist\u001b[39;49m\u001b[43m(\u001b[49m\u001b[43mc\u001b[49m\u001b[43m)\u001b[49m\u001b[43m[\u001b[49m\u001b[38;5;241;43m0\u001b[39;49m\u001b[43m]\u001b[49m]\u001b[38;5;241m.\u001b[39mkeys())\n\u001b[0;32m      8\u001b[0m     df \u001b[38;5;241m=\u001b[39m pd\u001b[38;5;241m.\u001b[39mDataFrame(columns\u001b[38;5;241m=\u001b[39mregions, index\u001b[38;5;241m=\u001b[39mfound_timesteps)\n\u001b[0;32m     10\u001b[0m     \u001b[38;5;28;01mfor\u001b[39;00m region \u001b[38;5;129;01min\u001b[39;00m regions:\n",
      "\u001b[1;31mIndexError\u001b[0m: list index out of range"
     ]
    },
    {
     "data": {
      "image/png": "[encoded data removed]",
      "text/plain": [
       "<Figure size 1200x1500 with 5 Axes>"
      ]
     },
     "metadata": {},
     "output_type": "display_data"
    }
   ],
   "source": [
    "quant = 'marginal_price'\n",
    "\n",
    "fig, axs = plt.subplots(len(plot_style) + 1, 1, figsize=(12, 3*(len(plot_style) + 1)))\n",
    "\n",
    "for i, layout in enumerate(plot_style.keys()):\n",
    "\n",
    "    regions = list((c := considered_data[layout])[list(c)[0]].keys())\n",
    "    df = pd.DataFrame(columns=regions, index=found_timesteps)\n",
    "\n",
    "    for region in regions:\n",
    "        df[region] = [considered_data[layout][ts][region][quant] for ts in found_timesteps]\n",
    "\n",
    "    ax = axs[i]\n",
    "\n",
    "    if plot_style[layout] == \"agg\":\n",
    "        ax.plot(\n",
    "            getattr(df, agg_method.get(quant, \"sum\"))(axis=1), label=\"modelled mean\")\n",
    "\n",
    "        for col in df.columns:\n",
    "            ax.plot(df[col], linestyle='--', linewidth=0.5, alpha=0.5, color='grey')\n",
    "\n",
    "    else:\n",
    "        for col in df.columns:\n",
    "            ax.plot(df[col], label=col, linestyle='-', linewidth=1.5,)\n",
    "    ax.plot(real_prices, label=\"real wholesale price\", linewidth=1.5, color='darkred')\n",
    "\n",
    "\n",
    "    ax.set_ylabel('Price [£/MWh]')\n",
    "\n",
    "for border in flow_constraints.columns:\n",
    "    axs[-1].plot(flow_constraints[border].mul(1e-3), label=border)\n",
    "    axs[-1].set_ylabel('Max Flow [GW]')\n",
    "\n",
    "for ax in axs:\n",
    "    ax.grid(True, linestyle='--', alpha=0.5)\n",
    "    ax.legend(bbox_to_anchor=(1.01, 1), loc='upper left', borderaxespad=0.)\n",
    "\n",
    "plt.show()"
   ]
  },
  {
   "cell_type": "code",
   "execution_count": 36,
   "metadata": {},
   "outputs": [
    {
     "data": {
      "text/plain": [
       "'marginal_price'"
      ]
     },
     "execution_count": 36,
     "metadata": {},
     "output_type": "execute_result"
    }
   ],
   "source": [
    "quant"
   ]
  },
  {
   "cell_type": "code",
   "execution_count": 65,
   "metadata": {},
   "outputs": [
    {
     "data": {
      "image/png": "[encoded data removed]",
      "text/plain": [
       "<Figure size 1200x300 with 1 Axes>"
      ]
     },
     "metadata": {},
     "output_type": "display_data"
    }
   ],
   "source": [
    "import numpy as np\n",
    "import pandas as pd\n",
    "import matplotlib.pyplot as plt\n",
    "\n",
    "\n",
    "fig, ax = plt.subplots(1, 1, figsize=(12, 3))\n",
    "\n",
    "for i, layout in enumerate(plot_style.keys()):\n",
    "\n",
    "    regions = list((c := considered_data[layout])[list(c)[0]].keys())\n",
    "    marginal_prices = pd.DataFrame(columns=regions, index=found_timesteps)\n",
    "    loads = pd.DataFrame(columns=regions, index=found_timesteps)\n",
    "\n",
    "    for region in regions:\n",
    "        marginal_prices[region] = [considered_data[layout][ts][region][\"marginal_price\"] for ts in found_timesteps]\n",
    "        loads[region] = [considered_data[layout][ts][region][\"load\"] for ts in found_timesteps]\n",
    "\n",
    "    weights = loads.T.div(loads.sum(axis=1)).iloc[:,0].rename('load_weights')\n",
    "    total_price = marginal_prices.mul(weights).sum(axis=1)\n",
    "\n",
    "    # if plot_style[layout] == \"agg\":\n",
    "    ax.plot(total_price, label=layout)\n",
    "    # else:\n",
    "    #     for col in df.columns:\n",
    "    #         ax.plot(df[col], label=col, linestyle='-', linewidth=1.5,)\n",
    "    # ax.plot(real_prices, label=\"real wholesale price\", linewidth=1.5, color='darkred')\n",
    "\n",
    "    # ax.set_ylabel('Price [£/MWh]')\n",
    "\n",
    "ax.grid(True, linestyle='--', alpha=0.5)\n",
    "ax.legend(bbox_to_anchor=(1.01, 1), loc='upper left', borderaxespad=0.)\n",
    "\n",
    "ax.set_ylabel('Price [£/MWh]')\n",
    "ax.set_xlabel('Time')\n",
    "\n",
    "plt.show()\n"
   ]
  },
  {
   "cell_type": "code",
   "execution_count": null,
   "metadata": {},
   "outputs": [],
   "source": [
    "a = {\n",
    "    'a': 1,\n",
    "    'b': 2,\n",
    "    'c': 3,\n",
    "}"
   ]
  },
  {
   "cell_type": "code",
   "execution_count": 2,
   "metadata": {},
   "outputs": [
    {
     "ename": "NameError",
     "evalue": "name 'plot_style' is not defined",
     "output_type": "error",
     "traceback": [
      "\u001b[1;31m---------------------------------------------------------------------------\u001b[0m",
      "\u001b[1;31mNameError\u001b[0m                                 Traceback (most recent call last)",
      "Cell \u001b[1;32mIn[2], line 6\u001b[0m\n\u001b[0;32m      2\u001b[0m \u001b[38;5;28;01mimport\u001b[39;00m \u001b[38;5;21;01mpandas\u001b[39;00m \u001b[38;5;28;01mas\u001b[39;00m \u001b[38;5;21;01mpd\u001b[39;00m\n\u001b[0;32m      3\u001b[0m \u001b[38;5;28;01mimport\u001b[39;00m \u001b[38;5;21;01mmatplotlib\u001b[39;00m\u001b[38;5;21;01m.\u001b[39;00m\u001b[38;5;21;01mpyplot\u001b[39;00m \u001b[38;5;28;01mas\u001b[39;00m \u001b[38;5;21;01mplt\u001b[39;00m\n\u001b[1;32m----> 6\u001b[0m fig, axs \u001b[38;5;241m=\u001b[39m plt\u001b[38;5;241m.\u001b[39msubplots(\u001b[38;5;241m1\u001b[39m, \u001b[38;5;241m1\u001b[39m, figsize\u001b[38;5;241m=\u001b[39m(\u001b[38;5;241m12\u001b[39m, \u001b[38;5;241m3\u001b[39m\u001b[38;5;241m*\u001b[39m\u001b[38;5;28mlen\u001b[39m(\u001b[43mplot_style\u001b[49m)))\n\u001b[0;32m      8\u001b[0m \u001b[38;5;66;03m# compute marginal price in national layout for reference\u001b[39;00m\n\u001b[0;32m      9\u001b[0m regions \u001b[38;5;241m=\u001b[39m \u001b[38;5;28mlist\u001b[39m((c \u001b[38;5;241m:=\u001b[39m considered_data[\u001b[38;5;124m\"\u001b[39m\u001b[38;5;124mnational\u001b[39m\u001b[38;5;124m\"\u001b[39m])[\u001b[38;5;28mlist\u001b[39m(c)[\u001b[38;5;241m0\u001b[39m]]\u001b[38;5;241m.\u001b[39mkeys())\n",
      "\u001b[1;31mNameError\u001b[0m: name 'plot_style' is not defined"
     ]
    }
   ],
   "source": [
    "import numpy as np\n",
    "import pandas as pd\n",
    "import matplotlib.pyplot as plt\n",
    "\n",
    "\n",
    "fig, axs = plt.subplots(1, 1, figsize=(12, 3*(len(plot_style)-1)))\n",
    "\n",
    "# compute marginal price in national layout for reference\n",
    "regions = list((c := considered_data[\"national\"])[list(c)[0]].keys())\n",
    "marginal_prices = pd.DataFrame(columns=regions, index=found_timesteps)\n",
    "loads = pd.DataFrame(columns=regions, index=found_timesteps)\n",
    "\n",
    "for region in regions:\n",
    "    marginal_prices[region] = [considered_data[layout][ts][region][\"marginal_price\"] for ts in found_timesteps]\n",
    "    loads[region] = [considered_data[layout][ts][region][\"load\"] for ts in found_timesteps]\n",
    "\n",
    "weights = loads.T.div(loads.sum(axis=1)).iloc[:,0].rename('load_weights')\n",
    "national_price = marginal_prices.mul(weights).sum(axis=1)\n",
    "\n",
    "print(marginal_prices)\n",
    "\n",
    "extreme_n = 3\n",
    "\n",
    "counter = 0\n",
    "for layout in enumerate(plot_style.keys()):\n",
    "\n",
    "    if layout == 'national':\n",
    "        continue\n",
    "\n",
    "    counter += 1\n",
    "    ax = axs[counter]\n",
    "\n",
    "    regions = list((c := considered_data[layout])[list(c)[0]].keys())\n",
    "    marginal_prices = pd.DataFrame(columns=regions, index=found_timesteps)\n",
    "    loads = pd.DataFrame(columns=regions, index=found_timesteps)\n",
    "\n",
    "    for region in regions:\n",
    "        marginal_prices[region] = [considered_data[layout][ts][region][\"marginal_price\"] for ts in found_timesteps]\n",
    "        loads[region] = [considered_data[layout][ts][region][\"load\"] for ts in found_timesteps]\n",
    "\n",
    "    weights = loads.T.div(loads.sum(axis=1)).iloc[:,0].rename('load_weights')\n",
    "    total_price = marginal_prices.mul(weights).sum(axis=1)\n",
    "\n",
    "    totals = marginal_prices.sum(a).sort_values(ascending=False).index\n",
    "    worst = totals[:extreme_n]\n",
    "    best = totals[-extreme_n:]\n",
    "\n",
    "\n",
    "\n",
    "    ax.plot(total_price, label=f\"{layout} Price\", color='green')\n",
    "    ax.plot(national_price, label=\"National Price\", color='purple')\n",
    "\n",
    "    ax.set_ylabel('Price [£/MWh]')\n",
    "\n",
    "ax.grid(True, linestyle='--', alpha=0.5)\n",
    "ax.legend(bbox_to_anchor=(1.01, 1), loc='upper left', borderaxespad=0.)\n",
    "\n",
    "ax.set_ylabel('Price [£/MWh]')\n",
    "ax.set_xlabel('Time')\n",
    "\n",
    "plt.show()"
   ]
  },
  {
   "cell_type": "code",
   "execution_count": 69,
   "metadata": {},
   "outputs": [],
   "source": [
    "balance = pd.read_csv(Path.cwd().parent / 'resources' / 'live_data' / '2024-03-06_8' / 'real_balancing_actions.csv', index_col=0)"
   ]
  },
  {
   "cell_type": "code",
   "execution_count": 77,
   "metadata": {},
   "outputs": [
    {
     "name": "stdout",
     "output_type": "stream",
     "text": [
      "         offer volume  offer price  bid volume  bid price  offer revenue  \\\n",
      "SGRWO-2           0.0       1500.0   12.016667      100.0            0.0   \n",
      "SGRWO-3           0.0       1500.0   25.025000      100.0            0.0   \n",
      "SGRWO-4           0.0       1500.0   24.033333      100.0            0.0   \n",
      "FOYE-1            0.0         85.0   77.500000       50.0            0.0   \n",
      "MOWEO-3           0.0       9999.0   91.000000     9999.0            0.0   \n",
      "FASN2             0.0         80.0    7.000000       70.0            0.0   \n",
      "FASN3             0.0         80.0    6.000000       70.0            0.0   \n",
      "FASN-1            0.0         80.0    7.000000       70.0            0.0   \n",
      "SEAB-2          120.0        149.0    0.000000       30.0        17880.0   \n",
      "SGRWO-5           0.0       1500.0   13.516667      100.0            0.0   \n",
      "JAMBB-1           0.0       9999.0    1.416667     9999.0            0.0   \n",
      "GORDW-2           0.0        500.0   16.016667      100.0            0.0   \n",
      "PEHE-1            0.0         85.0  450.000000       80.0            0.0   \n",
      "\n",
      "           bid revenue  \n",
      "SGRWO-2    1201.666667  \n",
      "SGRWO-3    2502.500000  \n",
      "SGRWO-4    2403.333333  \n",
      "FOYE-1     3875.000000  \n",
      "MOWEO-3  909909.000000  \n",
      "FASN2       490.000000  \n",
      "FASN3       420.000000  \n",
      "FASN-1      490.000000  \n",
      "SEAB-2        0.000000  \n",
      "SGRWO-5    1351.666667  \n",
      "JAMBB-1   14165.250000  \n",
      "GORDW-2    1601.666667  \n",
      "PEHE-1    36000.000000  \n",
      "17880.0\n",
      "974410.0833333333\n"
     ]
    }
   ],
   "source": [
    "print(balance)\n",
    "\n",
    "offers = balance.loc[balance['offer volume'] > 0]\n",
    "\n",
    "offer_rev = balance['offer revenue'].sum()\n",
    "print(offer_rev)\n",
    "\n",
    "bid_rev = balance['bid revenue'].sum()\n",
    "print(bid_rev)"
   ]
  },
  {
   "cell_type": "code",
   "execution_count": 88,
   "metadata": {},
   "outputs": [
    {
     "data": {
      "text/html": [
       "<div>\n",
       "<style scoped>\n",
       "    .dataframe tbody tr th:only-of-type {\n",
       "        vertical-align: middle;\n",
       "    }\n",
       "\n",
       "    .dataframe tbody tr th {\n",
       "        vertical-align: top;\n",
       "    }\n",
       "\n",
       "    .dataframe thead th {\n",
       "        text-align: right;\n",
       "    }\n",
       "</style>\n",
       "<table border=\"1\" class=\"dataframe\">\n",
       "  <thead>\n",
       "    <tr style=\"text-align: right;\">\n",
       "      <th></th>\n",
       "      <th>NationalGridBmUnit</th>\n",
       "      <th>PN</th>\n",
       "      <th>MELS</th>\n",
       "    </tr>\n",
       "  </thead>\n",
       "  <tbody>\n",
       "    <tr>\n",
       "      <th>562</th>\n",
       "      <td>FASN3</td>\n",
       "      <td>19.0</td>\n",
       "      <td>19</td>\n",
       "    </tr>\n",
       "    <tr>\n",
       "      <th>563</th>\n",
       "      <td>FASN-4</td>\n",
       "      <td>8.0</td>\n",
       "      <td>8</td>\n",
       "    </tr>\n",
       "    <tr>\n",
       "      <th>1577</th>\n",
       "      <td>FASN-1</td>\n",
       "      <td>21.0</td>\n",
       "      <td>21</td>\n",
       "    </tr>\n",
       "    <tr>\n",
       "      <th>1578</th>\n",
       "      <td>FASN2</td>\n",
       "      <td>21.0</td>\n",
       "      <td>21</td>\n",
       "    </tr>\n",
       "  </tbody>\n",
       "</table>\n",
       "</div>"
      ],
      "text/plain": [
       "     NationalGridBmUnit    PN  MELS\n",
       "562               FASN3  19.0    19\n",
       "563              FASN-4   8.0     8\n",
       "1577             FASN-1  21.0    21\n",
       "1578              FASN2  21.0    21"
      ]
     },
     "execution_count": 88,
     "metadata": {},
     "output_type": "execute_result"
    }
   ],
   "source": [
    "# a = pn.reset_index()\n",
    "a.loc[a.NationalGridBmUnit.str.contains(\"FASN\")]"
   ]
  },
  {
   "cell_type": "code",
   "execution_count": 89,
   "metadata": {},
   "outputs": [
    {
     "name": "stdout",
     "output_type": "stream",
     "text": [
      "PN      19.0\n",
      "MELS    19.0\n",
      "Name: FASN3, dtype: float64\n"
     ]
    }
   ],
   "source": [
    "import os\n",
    "os.listdir(Path.cwd().parent / 'resources')\n",
    "\n",
    "estcost = pd.read_csv(Path.cwd().parent / 'resources' / 'bmu_cost_estimates.csv', index_col=0).rename(columns={'0': 'cost_estimate'})\n",
    "pn = pd.read_csv(Path.cwd().parent / 'resources' / 'live_data' / '2024-03-06_8' / 'elexon_bmus.csv', index_col=0)\n",
    "\n",
    "unit = 'FASN3'\n",
    "# print(estcost.loc[unit])\n",
    "\n",
    "print(pn.loc[unit])"
   ]
  },
  {
   "cell_type": "code",
   "execution_count": 90,
   "metadata": {},
   "outputs": [
    {
     "data": {
      "text/plain": [
       "28.94736842105263"
      ]
     },
     "execution_count": 90,
     "metadata": {},
     "output_type": "execute_result"
    }
   ],
   "source": [
    "550 / 19"
   ]
  },
  {
   "cell_type": "code",
   "execution_count": 106,
   "metadata": {},
   "outputs": [],
   "source": [
    "\n",
    "base = Path.cwd().parent / 'resources' / 'live_data'\n",
    "\n",
    "for file in os.listdir(base):\n",
    "\n",
    "    if 'regions_onshore_s.geojson' in os.listdir(base / file):\n",
    "        os.remove(base / file / 'regions_onshore_s.geojson')\n",
    "\n",
    "    if 'maps.pdf' in os.listdir(base / file):\n",
    "        os.remove(base / file / 'maps.pdf')"
   ]
  },
  {
   "cell_type": "code",
   "execution_count": 8,
   "metadata": {},
   "outputs": [],
   "source": [
    "import sys\n",
    "import pandas as pd\n",
    "import numpy as np\n",
    "from pathlib import Path\n",
    "\n",
    "sys.path.append(str(Path.cwd().parent / 'scripts'))\n",
    "\n",
    "from _helpers import to_date_period, to_datetime"
   ]
  },
  {
   "cell_type": "code",
   "execution_count": 9,
   "metadata": {},
   "outputs": [
    {
     "data": {
      "text/plain": [
       "Timestamp('2024-04-02 01:00:00')"
      ]
     },
     "execution_count": 9,
     "metadata": {},
     "output_type": "execute_result"
    }
   ],
   "source": [
    "to_datetime(\"2024-04-02\", 1)"
   ]
  },
  {
   "cell_type": "code",
   "execution_count": 18,
   "metadata": {},
   "outputs": [
    {
     "data": {
      "text/html": [
       "<div>\n",
       "<style scoped>\n",
       "    .dataframe tbody tr th:only-of-type {\n",
       "        vertical-align: middle;\n",
       "    }\n",
       "\n",
       "    .dataframe tbody tr th {\n",
       "        vertical-align: top;\n",
       "    }\n",
       "\n",
       "    .dataframe thead th {\n",
       "        text-align: right;\n",
       "    }\n",
       "</style>\n",
       "<table border=\"1\" class=\"dataframe\">\n",
       "  <thead>\n",
       "    <tr style=\"text-align: right;\">\n",
       "      <th></th>\n",
       "      <th>PublishTime</th>\n",
       "      <th>StartTime</th>\n",
       "      <th>SettlementDate</th>\n",
       "      <th>SettlementPeriod</th>\n",
       "      <th>Quantity</th>\n",
       "    </tr>\n",
       "  </thead>\n",
       "  <tbody>\n",
       "    <tr>\n",
       "      <th>0</th>\n",
       "      <td>2024-03-08T00:25:09Z</td>\n",
       "      <td>2024-03-07T23:30:00Z</td>\n",
       "      <td>2024-03-07</td>\n",
       "      <td>48</td>\n",
       "      <td>31350.0</td>\n",
       "    </tr>\n",
       "    <tr>\n",
       "      <th>1</th>\n",
       "      <td>2024-03-07T23:55:08Z</td>\n",
       "      <td>2024-03-07T23:00:00Z</td>\n",
       "      <td>2024-03-07</td>\n",
       "      <td>47</td>\n",
       "      <td>32633.0</td>\n",
       "    </tr>\n",
       "    <tr>\n",
       "      <th>2</th>\n",
       "      <td>2024-03-07T23:25:08Z</td>\n",
       "      <td>2024-03-07T22:30:00Z</td>\n",
       "      <td>2024-03-07</td>\n",
       "      <td>46</td>\n",
       "      <td>34744.0</td>\n",
       "    </tr>\n",
       "    <tr>\n",
       "      <th>3</th>\n",
       "      <td>2024-03-07T22:55:09Z</td>\n",
       "      <td>2024-03-07T22:00:00Z</td>\n",
       "      <td>2024-03-07</td>\n",
       "      <td>45</td>\n",
       "      <td>36621.0</td>\n",
       "    </tr>\n",
       "    <tr>\n",
       "      <th>4</th>\n",
       "      <td>2024-03-07T22:25:09Z</td>\n",
       "      <td>2024-03-07T21:30:00Z</td>\n",
       "      <td>2024-03-07</td>\n",
       "      <td>44</td>\n",
       "      <td>40442.0</td>\n",
       "    </tr>\n",
       "    <tr>\n",
       "      <th>...</th>\n",
       "      <td>...</td>\n",
       "      <td>...</td>\n",
       "      <td>...</td>\n",
       "      <td>...</td>\n",
       "      <td>...</td>\n",
       "    </tr>\n",
       "    <tr>\n",
       "      <th>91</th>\n",
       "      <td>2024-03-06T02:55:09Z</td>\n",
       "      <td>2024-03-06T02:00:00Z</td>\n",
       "      <td>2024-03-06</td>\n",
       "      <td>5</td>\n",
       "      <td>30087.0</td>\n",
       "    </tr>\n",
       "    <tr>\n",
       "      <th>92</th>\n",
       "      <td>2024-03-06T02:25:08Z</td>\n",
       "      <td>2024-03-06T01:30:00Z</td>\n",
       "      <td>2024-03-06</td>\n",
       "      <td>4</td>\n",
       "      <td>31309.0</td>\n",
       "    </tr>\n",
       "    <tr>\n",
       "      <th>93</th>\n",
       "      <td>2024-03-06T01:55:09Z</td>\n",
       "      <td>2024-03-06T01:00:00Z</td>\n",
       "      <td>2024-03-06</td>\n",
       "      <td>3</td>\n",
       "      <td>32117.0</td>\n",
       "    </tr>\n",
       "    <tr>\n",
       "      <th>94</th>\n",
       "      <td>2024-03-06T01:25:09Z</td>\n",
       "      <td>2024-03-06T00:30:00Z</td>\n",
       "      <td>2024-03-06</td>\n",
       "      <td>2</td>\n",
       "      <td>32685.0</td>\n",
       "    </tr>\n",
       "    <tr>\n",
       "      <th>95</th>\n",
       "      <td>2024-03-06T00:55:09Z</td>\n",
       "      <td>2024-03-06T00:00:00Z</td>\n",
       "      <td>2024-03-06</td>\n",
       "      <td>1</td>\n",
       "      <td>32403.0</td>\n",
       "    </tr>\n",
       "  </tbody>\n",
       "</table>\n",
       "<p>96 rows × 5 columns</p>\n",
       "</div>"
      ],
      "text/plain": [
       "             PublishTime             StartTime SettlementDate  \\\n",
       "0   2024-03-08T00:25:09Z  2024-03-07T23:30:00Z     2024-03-07   \n",
       "1   2024-03-07T23:55:08Z  2024-03-07T23:00:00Z     2024-03-07   \n",
       "2   2024-03-07T23:25:08Z  2024-03-07T22:30:00Z     2024-03-07   \n",
       "3   2024-03-07T22:55:09Z  2024-03-07T22:00:00Z     2024-03-07   \n",
       "4   2024-03-07T22:25:09Z  2024-03-07T21:30:00Z     2024-03-07   \n",
       "..                   ...                   ...            ...   \n",
       "91  2024-03-06T02:55:09Z  2024-03-06T02:00:00Z     2024-03-06   \n",
       "92  2024-03-06T02:25:08Z  2024-03-06T01:30:00Z     2024-03-06   \n",
       "93  2024-03-06T01:55:09Z  2024-03-06T01:00:00Z     2024-03-06   \n",
       "94  2024-03-06T01:25:09Z  2024-03-06T00:30:00Z     2024-03-06   \n",
       "95  2024-03-06T00:55:09Z  2024-03-06T00:00:00Z     2024-03-06   \n",
       "\n",
       "    SettlementPeriod  Quantity  \n",
       "0                 48   31350.0  \n",
       "1                 47   32633.0  \n",
       "2                 46   34744.0  \n",
       "3                 45   36621.0  \n",
       "4                 44   40442.0  \n",
       "..               ...       ...  \n",
       "91                 5   30087.0  \n",
       "92                 4   31309.0  \n",
       "93                 3   32117.0  \n",
       "94                 2   32685.0  \n",
       "95                 1   32403.0  \n",
       "\n",
       "[96 rows x 5 columns]"
      ]
     },
     "execution_count": 18,
     "metadata": {},
     "output_type": "execute_result"
    }
   ],
   "source": [
    "from io import StringIO\n",
    "import requests\n",
    "\n",
    "url = \"https://data.elexon.co.uk/bmrs/api/v1/demand/actual/total?from=2024-03-06&to=2024-03-07&settlementPeriodFrom=1&settlementPeriodTo=48&format=csv\"\n",
    "\n",
    "response = requests.get(url)\n",
    "data = pd.read_csv(StringIO(response.content.decode('utf-8')))\n",
    "data"
   ]
  },
  {
   "cell_type": "code",
   "execution_count": 20,
   "metadata": {},
   "outputs": [
    {
     "data": {
      "text/plain": [
       "Timestamp('2024-03-06 01:00:00')"
      ]
     },
     "execution_count": 20,
     "metadata": {},
     "output_type": "execute_result"
    }
   ],
   "source": [
    "to_datetime(\"2024-03-06\", 1)"
   ]
  },
  {
   "cell_type": "code",
   "execution_count": 1,
   "metadata": {},
   "outputs": [],
   "source": [
    "import sys\n",
    "from pathlib import Path\n",
    "\n",
    "sys.path.append(str(Path.cwd().parent / 'scripts'))\n",
    "\n",
    "from _helpers import to_date_period, to_datetime"
   ]
  },
  {
   "cell_type": "code",
   "execution_count": 18,
   "metadata": {},
   "outputs": [
    {
     "data": {
      "text/plain": [
       "Timestamp('2024-03-06 23:30:00')"
      ]
     },
     "execution_count": 18,
     "metadata": {},
     "output_type": "execute_result"
    }
   ],
   "source": [
    "td = to_datetime(\"2024-03-06\", 48)\n",
    "td"
   ]
  },
  {
   "cell_type": "code",
   "execution_count": 19,
   "metadata": {},
   "outputs": [],
   "source": [
    "import pandas as pd\n",
    "\n",
    "def to_date_period(dt):\n",
    "\n",
    "    period = (dt - dt.normalize()) // pd.Timedelta(minutes=30) + 1\n",
    "    if period <= 0:\n",
    "        date = (dt - pd.Timedelta(days=1)).strftime('%Y-%m-%d')\n",
    "        period = 48 + period\n",
    "    else:\n",
    "        date = dt.strftime('%Y-%m-%d')\n",
    "\n",
    "    return date, period"
   ]
  },
  {
   "cell_type": "code",
   "execution_count": 20,
   "metadata": {},
   "outputs": [
    {
     "data": {
      "text/plain": [
       "('2024-03-06', 48)"
      ]
     },
     "execution_count": 20,
     "metadata": {},
     "output_type": "execute_result"
    }
   ],
   "source": [
    "to_date_period(td)"
   ]
  }
 ],
 "metadata": {
  "kernelspec": {
   "display_name": "Python 3",
   "language": "python",
   "name": "python3"
  },
  "language_info": {
   "codemirror_mode": {
    "name": "ipython",
    "version": 3
   },
   "file_extension": ".py",
   "mimetype": "text/x-python",
   "name": "python",
   "nbconvert_exporter": "python",
   "pygments_lexer": "ipython3",
   "version": "3.10.12"
  }
 },
 "nbformat": 4,
 "nbformat_minor": 2
}
